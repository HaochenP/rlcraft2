{
 "cells": [
  {
   "cell_type": "markdown",
   "metadata": {
    "id": "klGNgWREsvQv"
   },
   "source": [
    "##### Copyright 2021 The TF-Agents Authors."
   ]
  },
  {
   "cell_type": "code",
   "execution_count": 1,
   "metadata": {
    "cellView": "form",
    "execution": {
     "iopub.execute_input": "2022-04-20T12:27:04.116459Z",
     "iopub.status.busy": "2022-04-20T12:27:04.116188Z",
     "iopub.status.idle": "2022-04-20T12:27:04.121478Z",
     "shell.execute_reply": "2022-04-20T12:27:04.120879Z"
    },
    "id": "nQnmcm0oI1Q-"
   },
   "outputs": [],
   "source": [
    "#@title Licensed under the Apache License, Version 2.0 (the \"License\");\n",
    "# you may not use this file except in compliance with the License.\n",
    "# You may obtain a copy of the License at\n",
    "#\n",
    "# https://www.apache.org/licenses/LICENSE-2.0\n",
    "#\n",
    "# Unless required by applicable law or agreed to in writing, software\n",
    "# distributed under the License is distributed on an \"AS IS\" BASIS,\n",
    "# WITHOUT WARRANTIES OR CONDITIONS OF ANY KIND, either express or implied.\n",
    "# See the License for the specific language governing permissions and\n",
    "# limitations under the License."
   ]
  },
  {
   "cell_type": "markdown",
   "metadata": {
    "id": "pmDI-h7cI0tI"
   },
   "source": [
    "# Train a Deep Q Network with TF-Agents\n",
    "\n",
    "<table class=\"tfo-notebook-buttons\" align=\"left\">\n",
    "  <td>\n",
    "    <a target=\"_blank\" href=\"https://www.tensorflow.org/agents/tutorials/1_dqn_tutorial\">\n",
    "    <img src=\"https://www.tensorflow.org/images/tf_logo_32px.png\" />\n",
    "    View on TensorFlow.org</a>\n",
    "  </td>\n",
    "  <td>\n",
    "    <a target=\"_blank\" href=\"https://colab.research.google.com/github/tensorflow/agents/blob/master/docs/tutorials/1_dqn_tutorial.ipynb\">\n",
    "    <img src=\"https://www.tensorflow.org/images/colab_logo_32px.png\" />\n",
    "    Run in Google Colab</a>\n",
    "  </td>\n",
    "  <td>\n",
    "    <a target=\"_blank\" href=\"https://github.com/tensorflow/agents/blob/master/docs/tutorials/1_dqn_tutorial.ipynb\">\n",
    "    <img src=\"https://www.tensorflow.org/images/GitHub-Mark-32px.png\" />\n",
    "    View source on GitHub</a>\n",
    "  </td>\n",
    "  <td>\n",
    "    <a href=\"https://storage.googleapis.com/tensorflow_docs/agents/docs/tutorials/1_dqn_tutorial.ipynb\"><img src=\"https://www.tensorflow.org/images/download_logo_32px.png\" />Download notebook</a>\n",
    "  </td>\n",
    "</table>"
   ]
  },
  {
   "cell_type": "markdown",
   "metadata": {
    "id": "lsaQlK8fFQqH"
   },
   "source": [
    "## Introduction\n"
   ]
  },
  {
   "cell_type": "markdown",
   "metadata": {
    "id": "cKOCZlhUgXVK"
   },
   "source": [
    "This example shows how to train a [DQN (Deep Q Networks)](https://storage.googleapis.com/deepmind-media/dqn/DQNNaturePaper.pdf)  agent on the Cartpole environment using the TF-Agents library.\n",
    "\n",
    "![Cartpole environment](https://raw.githubusercontent.com/tensorflow/agents/master/docs/tutorials/images/cartpole.png)\n",
    "\n",
    "It will walk you through all the components in a Reinforcement Learning (RL) pipeline for training, evaluation and data collection.\n",
    "\n",
    "\n",
    "To run this code live, click the 'Run in Google Colab' link above.\n"
   ]
  },
  {
   "cell_type": "markdown",
   "metadata": {
    "id": "1u9QVVsShC9X"
   },
   "source": [
    "## Setup"
   ]
  },
  {
   "cell_type": "markdown",
   "metadata": {
    "id": "kNrNXKI7bINP"
   },
   "source": [
    "If you haven't installed the following dependencies, run:"
   ]
  },
  {
   "cell_type": "code",
   "execution_count": 2,
   "metadata": {
    "execution": {
     "iopub.execute_input": "2022-04-20T12:27:04.124906Z",
     "iopub.status.busy": "2022-04-20T12:27:04.124711Z",
     "iopub.status.idle": "2022-04-20T12:27:38.579842Z",
     "shell.execute_reply": "2022-04-20T12:27:38.578964Z"
    },
    "id": "KEHR2Ui-lo8O"
   },
   "outputs": [
    {
     "name": "stdout",
     "output_type": "stream",
     "text": [
      "\r",
      "0% [Working]"
     ]
    },
    {
     "name": "stdout",
     "output_type": "stream",
     "text": [
      "\r",
      "            \r",
      "Hit:1 http://europe-west4.gce.archive.ubuntu.com/ubuntu bionic InRelease\r\n",
      "\r",
      "0% [Connecting to security.ubuntu.com (91.189.91.38)] [Waiting for headers] [Wa\r",
      "                                                                               \r",
      "Hit:2 http://europe-west4.gce.archive.ubuntu.com/ubuntu bionic-updates InRelease\r\n",
      "\r",
      "0% [Connecting to security.ubuntu.com (91.189.91.38)] [Waiting for headers] [Wa\r",
      "0% [1 InRelease gpgv 242 kB] [Waiting for headers] [Connecting to security.ubun\r",
      "                                                                               \r",
      "Hit:3 https://nvidia.github.io/libnvidia-container/stable/ubuntu18.04/amd64  InRelease\r\n",
      "\r",
      "0% [1 InRelease gpgv 242 kB] [Waiting for headers] [Connecting to security.ubun\r",
      "                                                                               \r",
      "Hit:4 http://europe-west4.gce.archive.ubuntu.com/ubuntu bionic-backports InRelease\r\n",
      "\r",
      "0% [1 InRelease gpgv 242 kB] [Connecting to security.ubuntu.com (91.189.91.38)]"
     ]
    },
    {
     "name": "stdout",
     "output_type": "stream",
     "text": [
      "\r",
      "0% [Waiting for headers] [Waiting for headers] [Waiting for headers] [Waiting f\r",
      "0% [2 InRelease gpgv 88.7 kB] [Waiting for headers] [Waiting for headers] [Wait\r",
      "                                                                               \r",
      "Get:5 https://nvidia.github.io/nvidia-container-runtime/ubuntu18.04/amd64  InRelease [1481 B]\r\n",
      "\r",
      "0% [2 InRelease gpgv 88.7 kB] [Waiting for headers] [Waiting for headers] [Wait\r",
      "0% [2 InRelease gpgv 88.7 kB] [Waiting for headers] [Waiting for headers] [Wait\r",
      "                                                                               \r",
      "Get:6 https://nvidia.github.io/nvidia-docker/ubuntu18.04/amd64  InRelease [1474 B]\r\n",
      "\r",
      "0% [2 InRelease gpgv 88.7 kB] [Waiting for headers] [Waiting for headers] [Wait\r",
      "0% [2 InRelease gpgv 88.7 kB] [Waiting for headers] [Waiting for headers] [Wait\r",
      "                                                                               \r",
      "Ign:7 http://developer.download.nvidia.com/compute/machine-learning/repos/ubuntu1804/x86_64  InRelease\r\n",
      "\r",
      "0% [2 InRelease gpgv 88.7 kB] [Waiting for headers] [Waiting for headers] [Wait\r",
      "                                                                               \r",
      "Hit:8 http://developer.download.nvidia.com/compute/machine-learning/repos/ubuntu1804/x86_64  Release\r\n",
      "\r",
      "0% [2 InRelease gpgv 88.7 kB] [Waiting for headers] [Waiting for headers] [Wait"
     ]
    },
    {
     "name": "stdout",
     "output_type": "stream",
     "text": [
      "\r",
      "                                                                               \r",
      "Get:9 http://security.ubuntu.com/ubuntu bionic-security InRelease [88.7 kB]\r\n",
      "\r",
      "0% [2 InRelease gpgv 88.7 kB] [9 InRelease 12.6 kB/88.7 kB 14%] [Waiting for he\r",
      "0% [9 InRelease 12.6 kB/88.7 kB 14%] [Waiting for headers] [Waiting for headers\r",
      "0% [3 InRelease gpgv 1484 B] [9 InRelease 12.6 kB/88.7 kB 14%] [Waiting for hea"
     ]
    },
    {
     "name": "stdout",
     "output_type": "stream",
     "text": [
      "\r",
      "0% [9 InRelease 38.3 kB/88.7 kB 43%] [Waiting for headers] [Waiting for headers\r",
      "0% [4 InRelease gpgv 74.6 kB] [9 InRelease 38.3 kB/88.7 kB 43%] [Waiting for he\r",
      "                                                                               \r",
      "Get:10 https://packages.cloud.google.com/apt eip-cloud-bionic InRelease [5419 B]\r\n",
      "\r",
      "0% [4 InRelease gpgv 74.6 kB] [9 InRelease 38.3 kB/88.7 kB 43%] [10 InRelease 3\r",
      "0% [4 InRelease gpgv 74.6 kB] [9 InRelease 38.3 kB/88.7 kB 43%] [Waiting for he"
     ]
    },
    {
     "name": "stdout",
     "output_type": "stream",
     "text": [
      "\r",
      "                                                                               \r",
      "0% [4 InRelease gpgv 74.6 kB] [Waiting for headers] [Waiting for headers]\r",
      "                                                                         \r",
      "Get:11 http://packages.cloud.google.com/apt google-cloud-logging-wheezy InRelease [5483 B]\r\n",
      "\r",
      "0% [4 InRelease gpgv 74.6 kB] [11 InRelease 3553 B/5483 B 65%] [Waiting for hea\r",
      "                                                                               \r",
      "0% [11 InRelease 5483 B/5483 B 100%] [Waiting for headers]\r",
      "                                                          \r",
      "0% [Waiting for headers]\r",
      "0% [5 InRelease gpgv 1481 B] [Waiting for headers]"
     ]
    },
    {
     "name": "stdout",
     "output_type": "stream",
     "text": [
      "\r",
      "                                                  \r",
      "Hit:12 http://archive.canonical.com/ubuntu bionic InRelease\r\n",
      "\r",
      "                                                  \r",
      "0% [5 InRelease gpgv 1481 B]\r",
      "                            \r",
      "0% [Working]\r",
      "0% [6 InRelease gpgv 1474 B]"
     ]
    },
    {
     "name": "stdout",
     "output_type": "stream",
     "text": [
      "\r",
      "                            \r",
      "0% [Working]\r",
      "0% [Release.gpg gpgv 564 B]"
     ]
    },
    {
     "name": "stdout",
     "output_type": "stream",
     "text": [
      "\r",
      "                           \r",
      "0% [Working]\r",
      "0% [10 InRelease gpgv 5419 B]"
     ]
    },
    {
     "name": "stdout",
     "output_type": "stream",
     "text": [
      "\r",
      "                             \r",
      "Err:10 https://packages.cloud.google.com/apt eip-cloud-bionic InRelease\r\n",
      "  The following signatures couldn't be verified because the public key is not available: NO_PUBKEY FEEA9169307EA071 NO_PUBKEY 8B57C5C2836F4BEB\r\n",
      "\r",
      "                             \r",
      "0% [Working]\r",
      "0% [9 InRelease gpgv 88.7 kB]"
     ]
    },
    {
     "name": "stdout",
     "output_type": "stream",
     "text": [
      "\r",
      "                             \r",
      "0% [Working]\r",
      "0% [11 InRelease gpgv 5483 B]"
     ]
    },
    {
     "name": "stdout",
     "output_type": "stream",
     "text": [
      "\r",
      "                             \r",
      "Err:11 http://packages.cloud.google.com/apt google-cloud-logging-wheezy InRelease\r\n",
      "  The following signatures couldn't be verified because the public key is not available: NO_PUBKEY FEEA9169307EA071 NO_PUBKEY 8B57C5C2836F4BEB\r\n",
      "\r",
      "                             \r",
      "0% [Working]\r",
      "0% [12 InRelease gpgv 10.2 kB]"
     ]
    },
    {
     "name": "stdout",
     "output_type": "stream",
     "text": [
      "\r",
      "                              \r",
      "0% [Working]\r",
      "            \r",
      "Fetched 103 kB in 1s (111 kB/s)\r\n"
     ]
    },
    {
     "name": "stdout",
     "output_type": "stream",
     "text": [
      "\r",
      "Reading package lists... 0%\r",
      "\r",
      "Reading package lists... 0%\r",
      "\r",
      "Reading package lists... 0%\r"
     ]
    },
    {
     "name": "stdout",
     "output_type": "stream",
     "text": [
      "\r",
      "Reading package lists... 3%\r",
      "\r",
      "Reading package lists... 3%\r",
      "\r",
      "Reading package lists... 5%\r",
      "\r",
      "Reading package lists... 5%\r",
      "\r",
      "Reading package lists... 5%\r",
      "\r",
      "Reading package lists... 5%\r",
      "\r",
      "Reading package lists... 5%\r",
      "\r",
      "Reading package lists... 5%\r"
     ]
    },
    {
     "name": "stdout",
     "output_type": "stream",
     "text": [
      "\r",
      "Reading package lists... 34%\r",
      "\r",
      "Reading package lists... 34%\r"
     ]
    },
    {
     "name": "stdout",
     "output_type": "stream",
     "text": [
      "\r",
      "Reading package lists... 50%\r",
      "\r",
      "Reading package lists... 50%\r",
      "\r",
      "Reading package lists... 50%\r",
      "\r",
      "Reading package lists... 50%\r",
      "\r",
      "Reading package lists... 50%\r",
      "\r",
      "Reading package lists... 50%\r"
     ]
    },
    {
     "name": "stdout",
     "output_type": "stream",
     "text": [
      "\r",
      "Reading package lists... 59%\r",
      "\r",
      "Reading package lists... 59%\r"
     ]
    },
    {
     "name": "stdout",
     "output_type": "stream",
     "text": [
      "\r",
      "Reading package lists... 64%\r",
      "\r",
      "Reading package lists... 64%\r",
      "\r",
      "Reading package lists... 65%\r",
      "\r",
      "Reading package lists... 67%\r",
      "\r",
      "Reading package lists... 67%\r",
      "\r",
      "Reading package lists... 68%\r",
      "\r",
      "Reading package lists... 68%\r"
     ]
    },
    {
     "name": "stdout",
     "output_type": "stream",
     "text": [
      "\r",
      "Reading package lists... 74%\r",
      "\r",
      "Reading package lists... 74%\r",
      "\r",
      "Reading package lists... 77%\r",
      "\r",
      "Reading package lists... 77%\r",
      "\r",
      "Reading package lists... 77%\r",
      "\r",
      "Reading package lists... 77%\r",
      "\r",
      "Reading package lists... 77%\r",
      "\r",
      "Reading package lists... 77%\r",
      "\r",
      "Reading package lists... 77%\r",
      "\r",
      "Reading package lists... 77%\r",
      "\r",
      "Reading package lists... 77%\r",
      "\r",
      "Reading package lists... 77%\r",
      "\r",
      "Reading package lists... 77%\r",
      "\r",
      "Reading package lists... 77%\r",
      "\r",
      "Reading package lists... 77%\r",
      "\r",
      "Reading package lists... 77%\r"
     ]
    },
    {
     "name": "stdout",
     "output_type": "stream",
     "text": [
      "\r",
      "Reading package lists... 84%\r",
      "\r",
      "Reading package lists... 84%\r",
      "\r",
      "Reading package lists... 89%\r",
      "\r",
      "Reading package lists... 89%\r",
      "\r",
      "Reading package lists... 92%\r",
      "\r",
      "Reading package lists... 92%\r",
      "\r",
      "Reading package lists... 93%\r",
      "\r",
      "Reading package lists... 93%\r"
     ]
    },
    {
     "name": "stdout",
     "output_type": "stream",
     "text": [
      "\r",
      "Reading package lists... 97%\r",
      "\r",
      "Reading package lists... 97%\r",
      "\r",
      "Reading package lists... 99%\r",
      "\r",
      "Reading package lists... 99%\r",
      "\r",
      "Reading package lists... 99%\r",
      "\r",
      "Reading package lists... 99%\r",
      "\r",
      "Reading package lists... 99%\r",
      "\r",
      "Reading package lists... 99%\r",
      "\r",
      "Reading package lists... 99%\r",
      "\r",
      "Reading package lists... 99%\r",
      "\r",
      "Reading package lists... 99%\r",
      "\r",
      "Reading package lists... 99%\r",
      "\r",
      "Reading package lists... 99%\r",
      "\r",
      "Reading package lists... 99%\r",
      "\r",
      "Reading package lists... 99%\r",
      "\r",
      "Reading package lists... 99%\r",
      "\r",
      "Reading package lists... 99%\r",
      "\r",
      "Reading package lists... 99%\r",
      "\r",
      "Reading package lists... 99%\r",
      "\r",
      "Reading package lists... 99%\r",
      "\r",
      "Reading package lists... 99%\r",
      "\r",
      "Reading package lists... 99%\r"
     ]
    },
    {
     "name": "stdout",
     "output_type": "stream",
     "text": [
      "\r",
      "Reading package lists... 99%\r",
      "\r",
      "Reading package lists... 99%\r"
     ]
    },
    {
     "name": "stdout",
     "output_type": "stream",
     "text": [
      "\r",
      "Reading package lists... Done\r",
      "\r\n"
     ]
    },
    {
     "name": "stdout",
     "output_type": "stream",
     "text": [
      "W: An error occurred during the signature verification. The repository is not updated and the previous index files will be used. GPG error: https://packages.cloud.google.com/apt eip-cloud-bionic InRelease: The following signatures couldn't be verified because the public key is not available: NO_PUBKEY FEEA9169307EA071 NO_PUBKEY 8B57C5C2836F4BEB\r\n",
      "W: An error occurred during the signature verification. The repository is not updated and the previous index files will be used. GPG error: http://packages.cloud.google.com/apt google-cloud-logging-wheezy InRelease: The following signatures couldn't be verified because the public key is not available: NO_PUBKEY FEEA9169307EA071 NO_PUBKEY 8B57C5C2836F4BEB\r\n",
      "W: Failed to fetch https://packages.cloud.google.com/apt/dists/eip-cloud-bionic/InRelease  The following signatures couldn't be verified because the public key is not available: NO_PUBKEY FEEA9169307EA071 NO_PUBKEY 8B57C5C2836F4BEB\r\n",
      "W: Failed to fetch http://packages.cloud.google.com/apt/dists/google-cloud-logging-wheezy/InRelease  The following signatures couldn't be verified because the public key is not available: NO_PUBKEY FEEA9169307EA071 NO_PUBKEY 8B57C5C2836F4BEB\r\n",
      "W: Some index files failed to download. They have been ignored, or old ones used instead.\r\n"
     ]
    },
    {
     "name": "stdout",
     "output_type": "stream",
     "text": [
      "\r",
      "Reading package lists... 0%\r"
     ]
    },
    {
     "name": "stdout",
     "output_type": "stream",
     "text": [
      "\r",
      "Reading package lists... 100%\r",
      "\r",
      "Reading package lists... Done\r",
      "\r\n",
      "\r",
      "Building dependency tree... 0%\r",
      "\r",
      "Building dependency tree... 0%\r"
     ]
    },
    {
     "name": "stdout",
     "output_type": "stream",
     "text": [
      "\r",
      "Building dependency tree... 50%\r",
      "\r",
      "Building dependency tree... 50%\r"
     ]
    },
    {
     "name": "stdout",
     "output_type": "stream",
     "text": [
      "\r",
      "Building dependency tree       \r",
      "\r\n",
      "\r",
      "Reading state information... 0%\r",
      "\r",
      "Reading state information... 0%\r",
      "\r",
      "Reading state information... Done\r",
      "\r\n",
      "freeglut3-dev is already the newest version (2.8.1-3).\r\n",
      "ffmpeg is already the newest version (7:3.4.8-0ubuntu0.2).\r\n",
      "xvfb is already the newest version (2:1.19.6-1ubuntu4.10).\r\n"
     ]
    },
    {
     "name": "stdout",
     "output_type": "stream",
     "text": [
      "The following packages were automatically installed and are no longer required:\r\n",
      "  linux-gcp-5.4-headers-5.4.0-1040 linux-gcp-5.4-headers-5.4.0-1043\r\n",
      "  linux-gcp-5.4-headers-5.4.0-1044 linux-gcp-5.4-headers-5.4.0-1049\r\n",
      "  linux-gcp-5.4-headers-5.4.0-1052 linux-gcp-5.4-headers-5.4.0-1062\r\n",
      "  linux-headers-5.4.0-1062-gcp linux-image-5.4.0-1062-gcp\r\n",
      "  linux-modules-5.4.0-1062-gcp linux-modules-extra-5.4.0-1062-gcp\r\n",
      "Use 'sudo apt autoremove' to remove them.\r\n"
     ]
    },
    {
     "name": "stdout",
     "output_type": "stream",
     "text": [
      "0 upgraded, 0 newly installed, 0 to remove and 115 not upgraded.\r\n"
     ]
    },
    {
     "name": "stdout",
     "output_type": "stream",
     "text": [
      "Collecting imageio==2.4.0\r\n",
      "  Using cached imageio-2.4.0-py3-none-any.whl\r\n",
      "Requirement already satisfied: numpy in /tmpfs/src/tf_docs_env/lib/python3.7/site-packages (from imageio==2.4.0) (1.21.6)\r\n",
      "Requirement already satisfied: pillow in /tmpfs/src/tf_docs_env/lib/python3.7/site-packages (from imageio==2.4.0) (9.1.0)\r\n"
     ]
    },
    {
     "name": "stdout",
     "output_type": "stream",
     "text": [
      "Installing collected packages: imageio\r\n",
      "  Attempting uninstall: imageio\r\n",
      "    Found existing installation: imageio 2.17.0\r\n"
     ]
    },
    {
     "name": "stdout",
     "output_type": "stream",
     "text": [
      "    Uninstalling imageio-2.17.0:\r\n",
      "      Successfully uninstalled imageio-2.17.0\r\n"
     ]
    },
    {
     "name": "stdout",
     "output_type": "stream",
     "text": [
      "\u001b[31mERROR: pip's dependency resolver does not currently take into account all the packages that are installed. This behaviour is the source of the following dependency conflicts.\r\n",
      "scikit-image 0.19.2 requires imageio>=2.4.1, but you have imageio 2.4.0 which is incompatible.\u001b[0m\u001b[31m\r\n",
      "\u001b[0mSuccessfully installed imageio-2.4.0\r\n"
     ]
    },
    {
     "name": "stdout",
     "output_type": "stream",
     "text": [
      "Collecting pyvirtualdisplay\r\n",
      "  Using cached PyVirtualDisplay-3.0-py3-none-any.whl (15 kB)\r\n"
     ]
    },
    {
     "name": "stdout",
     "output_type": "stream",
     "text": [
      "Installing collected packages: pyvirtualdisplay\r\n"
     ]
    },
    {
     "name": "stdout",
     "output_type": "stream",
     "text": [
      "Successfully installed pyvirtualdisplay-3.0\r\n"
     ]
    },
    {
     "name": "stdout",
     "output_type": "stream",
     "text": [
      "Collecting tf-agents[reverb]\r\n",
      "  Using cached tf_agents-0.12.1-py3-none-any.whl (1.3 MB)\r\n"
     ]
    },
    {
     "name": "stdout",
     "output_type": "stream",
     "text": [
      "Requirement already satisfied: numpy>=1.13.3 in /tmpfs/src/tf_docs_env/lib/python3.7/site-packages (from tf-agents[reverb]) (1.21.6)\r\n",
      "Requirement already satisfied: six>=1.10.0 in /tmpfs/src/tf_docs_env/lib/python3.7/site-packages (from tf-agents[reverb]) (1.16.0)\r\n",
      "Collecting cloudpickle>=1.3\r\n",
      "  Using cached cloudpickle-2.0.0-py3-none-any.whl (25 kB)\r\n"
     ]
    },
    {
     "name": "stdout",
     "output_type": "stream",
     "text": [
      "Requirement already satisfied: wrapt>=1.11.1 in /tmpfs/src/tf_docs_env/lib/python3.7/site-packages (from tf-agents[reverb]) (1.14.0)\r\n",
      "Collecting tensorflow-probability>=0.16.0\r\n",
      "  Using cached tensorflow_probability-0.16.0-py2.py3-none-any.whl (6.3 MB)\r\n"
     ]
    },
    {
     "name": "stdout",
     "output_type": "stream",
     "text": [
      "Requirement already satisfied: typing-extensions>=3.7.4.3 in /tmpfs/src/tf_docs_env/lib/python3.7/site-packages (from tf-agents[reverb]) (4.2.0)\r\n"
     ]
    },
    {
     "name": "stdout",
     "output_type": "stream",
     "text": [
      "Collecting pygame==2.1.0\r\n"
     ]
    },
    {
     "name": "stdout",
     "output_type": "stream",
     "text": [
      "  Using cached pygame-2.1.0-cp37-cp37m-manylinux_2_17_x86_64.manylinux2014_x86_64.whl (18.3 MB)\r\n"
     ]
    },
    {
     "name": "stdout",
     "output_type": "stream",
     "text": [
      "Requirement already satisfied: protobuf>=3.11.3 in /tmpfs/src/tf_docs_env/lib/python3.7/site-packages (from tf-agents[reverb]) (3.20.1rc1)\r\n",
      "Requirement already satisfied: pillow in /tmpfs/src/tf_docs_env/lib/python3.7/site-packages (from tf-agents[reverb]) (9.1.0)\r\n",
      "Requirement already satisfied: absl-py>=0.6.1 in /tmpfs/src/tf_docs_env/lib/python3.7/site-packages (from tf-agents[reverb]) (1.0.0)\r\n",
      "Collecting gin-config>=0.4.0\r\n",
      "  Using cached gin_config-0.5.0-py3-none-any.whl (61 kB)\r\n"
     ]
    },
    {
     "name": "stdout",
     "output_type": "stream",
     "text": [
      "Collecting gym>=0.17.0\r\n",
      "  Using cached gym-0.23.1-py3-none-any.whl\r\n"
     ]
    },
    {
     "name": "stdout",
     "output_type": "stream",
     "text": [
      "Collecting tensorflow~=2.8.0\r\n"
     ]
    },
    {
     "name": "stdout",
     "output_type": "stream",
     "text": [
      "  Using cached tensorflow-2.8.0-cp37-cp37m-manylinux2010_x86_64.whl (497.5 MB)\r\n"
     ]
    },
    {
     "name": "stdout",
     "output_type": "stream",
     "text": [
      "Collecting dm-reverb~=0.7.0\r\n",
      "  Using cached dm_reverb-0.7.1-cp37-cp37m-manylinux2010_x86_64.whl (6.4 MB)\r\n"
     ]
    },
    {
     "name": "stdout",
     "output_type": "stream",
     "text": [
      "Collecting portpicker\r\n",
      "  Using cached portpicker-1.5.0-py3-none-any.whl (14 kB)\r\n"
     ]
    },
    {
     "name": "stdout",
     "output_type": "stream",
     "text": [
      "Collecting dm-tree\r\n",
      "  Using cached dm_tree-0.1.7-cp37-cp37m-manylinux_2_12_x86_64.manylinux2010_x86_64.whl (143 kB)\r\n"
     ]
    },
    {
     "name": "stdout",
     "output_type": "stream",
     "text": [
      "Collecting gym-notices>=0.0.4\r\n",
      "  Using cached gym_notices-0.0.6-py3-none-any.whl (2.7 kB)\r\n",
      "Requirement already satisfied: importlib-metadata>=4.10.0 in /tmpfs/src/tf_docs_env/lib/python3.7/site-packages (from gym>=0.17.0->tf-agents[reverb]) (4.11.3)\r\n"
     ]
    },
    {
     "name": "stdout",
     "output_type": "stream",
     "text": [
      "Collecting tf-estimator-nightly==2.8.0.dev2021122109\r\n",
      "  Using cached tf_estimator_nightly-2.8.0.dev2021122109-py2.py3-none-any.whl (462 kB)\r\n",
      "Requirement already satisfied: tensorflow-io-gcs-filesystem>=0.23.1 in /tmpfs/src/tf_docs_env/lib/python3.7/site-packages (from tensorflow~=2.8.0->tf-agents[reverb]) (0.24.0)\r\n",
      "Requirement already satisfied: flatbuffers>=1.12 in /tmpfs/src/tf_docs_env/lib/python3.7/site-packages (from tensorflow~=2.8.0->tf-agents[reverb]) (1.12)\r\n"
     ]
    },
    {
     "name": "stdout",
     "output_type": "stream",
     "text": [
      "Collecting keras<2.9,>=2.8.0rc0\r\n",
      "  Using cached keras-2.8.0-py2.py3-none-any.whl (1.4 MB)\r\n",
      "Requirement already satisfied: setuptools in /tmpfs/src/tf_docs_env/lib/python3.7/site-packages (from tensorflow~=2.8.0->tf-agents[reverb]) (62.1.0)\r\n",
      "Requirement already satisfied: libclang>=9.0.1 in /tmpfs/src/tf_docs_env/lib/python3.7/site-packages (from tensorflow~=2.8.0->tf-agents[reverb]) (13.0.0)\r\n",
      "Requirement already satisfied: h5py>=2.9.0 in /tmpfs/src/tf_docs_env/lib/python3.7/site-packages (from tensorflow~=2.8.0->tf-agents[reverb]) (3.6.0)\r\n",
      "Requirement already satisfied: google-pasta>=0.1.1 in /tmpfs/src/tf_docs_env/lib/python3.7/site-packages (from tensorflow~=2.8.0->tf-agents[reverb]) (0.2.0)\r\n",
      "Requirement already satisfied: opt-einsum>=2.3.2 in /tmpfs/src/tf_docs_env/lib/python3.7/site-packages (from tensorflow~=2.8.0->tf-agents[reverb]) (3.3.0)\r\n",
      "Requirement already satisfied: keras-preprocessing>=1.1.1 in /tmpfs/src/tf_docs_env/lib/python3.7/site-packages (from tensorflow~=2.8.0->tf-agents[reverb]) (1.1.2)\r\n",
      "Requirement already satisfied: grpcio<2.0,>=1.24.3 in /tmpfs/src/tf_docs_env/lib/python3.7/site-packages (from tensorflow~=2.8.0->tf-agents[reverb]) (1.46.0rc1)\r\n",
      "Requirement already satisfied: gast>=0.2.1 in /tmpfs/src/tf_docs_env/lib/python3.7/site-packages (from tensorflow~=2.8.0->tf-agents[reverb]) (0.4.0)\r\n",
      "Requirement already satisfied: astunparse>=1.6.0 in /tmpfs/src/tf_docs_env/lib/python3.7/site-packages (from tensorflow~=2.8.0->tf-agents[reverb]) (1.6.3)\r\n",
      "Requirement already satisfied: tensorboard<2.9,>=2.8 in /tmpfs/src/tf_docs_env/lib/python3.7/site-packages (from tensorflow~=2.8.0->tf-agents[reverb]) (2.8.0)\r\n",
      "Requirement already satisfied: termcolor>=1.1.0 in /tmpfs/src/tf_docs_env/lib/python3.7/site-packages (from tensorflow~=2.8.0->tf-agents[reverb]) (1.1.0)\r\n",
      "Requirement already satisfied: decorator in /tmpfs/src/tf_docs_env/lib/python3.7/site-packages (from tensorflow-probability>=0.16.0->tf-agents[reverb]) (5.1.1)\r\n"
     ]
    },
    {
     "name": "stdout",
     "output_type": "stream",
     "text": [
      "Requirement already satisfied: wheel<1.0,>=0.23.0 in /tmpfs/src/tf_docs_env/lib/python3.7/site-packages (from astunparse>=1.6.0->tensorflow~=2.8.0->tf-agents[reverb]) (0.37.1)\r\n",
      "Requirement already satisfied: cached-property in /tmpfs/src/tf_docs_env/lib/python3.7/site-packages (from h5py>=2.9.0->tensorflow~=2.8.0->tf-agents[reverb]) (1.5.2)\r\n"
     ]
    },
    {
     "name": "stdout",
     "output_type": "stream",
     "text": [
      "Requirement already satisfied: zipp>=0.5 in /tmpfs/src/tf_docs_env/lib/python3.7/site-packages (from importlib-metadata>=4.10.0->gym>=0.17.0->tf-agents[reverb]) (3.8.0)\r\n",
      "Requirement already satisfied: google-auth<3,>=1.6.3 in /tmpfs/src/tf_docs_env/lib/python3.7/site-packages (from tensorboard<2.9,>=2.8->tensorflow~=2.8.0->tf-agents[reverb]) (2.6.5)\r\n",
      "Requirement already satisfied: requests<3,>=2.21.0 in /tmpfs/src/tf_docs_env/lib/python3.7/site-packages (from tensorboard<2.9,>=2.8->tensorflow~=2.8.0->tf-agents[reverb]) (2.27.1)\r\n",
      "Requirement already satisfied: tensorboard-plugin-wit>=1.6.0 in /tmpfs/src/tf_docs_env/lib/python3.7/site-packages (from tensorboard<2.9,>=2.8->tensorflow~=2.8.0->tf-agents[reverb]) (1.8.1)\r\n",
      "Requirement already satisfied: markdown>=2.6.8 in /tmpfs/src/tf_docs_env/lib/python3.7/site-packages (from tensorboard<2.9,>=2.8->tensorflow~=2.8.0->tf-agents[reverb]) (3.3.6)\r\n",
      "Requirement already satisfied: google-auth-oauthlib<0.5,>=0.4.1 in /tmpfs/src/tf_docs_env/lib/python3.7/site-packages (from tensorboard<2.9,>=2.8->tensorflow~=2.8.0->tf-agents[reverb]) (0.4.6)\r\n",
      "Requirement already satisfied: tensorboard-data-server<0.7.0,>=0.6.0 in /tmpfs/src/tf_docs_env/lib/python3.7/site-packages (from tensorboard<2.9,>=2.8->tensorflow~=2.8.0->tf-agents[reverb]) (0.6.1)\r\n",
      "Requirement already satisfied: werkzeug>=0.11.15 in /tmpfs/src/tf_docs_env/lib/python3.7/site-packages (from tensorboard<2.9,>=2.8->tensorflow~=2.8.0->tf-agents[reverb]) (2.1.1)\r\n"
     ]
    },
    {
     "name": "stdout",
     "output_type": "stream",
     "text": [
      "Requirement already satisfied: psutil in /tmpfs/src/tf_docs_env/lib/python3.7/site-packages (from portpicker->dm-reverb~=0.7.0->tf-agents[reverb]) (5.9.0)\r\n",
      "Requirement already satisfied: pyasn1-modules>=0.2.1 in /tmpfs/src/tf_docs_env/lib/python3.7/site-packages (from google-auth<3,>=1.6.3->tensorboard<2.9,>=2.8->tensorflow~=2.8.0->tf-agents[reverb]) (0.2.8)\r\n",
      "Requirement already satisfied: cachetools<6.0,>=2.0.0 in /tmpfs/src/tf_docs_env/lib/python3.7/site-packages (from google-auth<3,>=1.6.3->tensorboard<2.9,>=2.8->tensorflow~=2.8.0->tf-agents[reverb]) (5.0.0)\r\n",
      "Requirement already satisfied: rsa<5,>=3.1.4 in /tmpfs/src/tf_docs_env/lib/python3.7/site-packages (from google-auth<3,>=1.6.3->tensorboard<2.9,>=2.8->tensorflow~=2.8.0->tf-agents[reverb]) (4.8)\r\n",
      "Requirement already satisfied: requests-oauthlib>=0.7.0 in /tmpfs/src/tf_docs_env/lib/python3.7/site-packages (from google-auth-oauthlib<0.5,>=0.4.1->tensorboard<2.9,>=2.8->tensorflow~=2.8.0->tf-agents[reverb]) (1.3.1)\r\n"
     ]
    },
    {
     "name": "stdout",
     "output_type": "stream",
     "text": [
      "Requirement already satisfied: charset-normalizer~=2.0.0 in /tmpfs/src/tf_docs_env/lib/python3.7/site-packages (from requests<3,>=2.21.0->tensorboard<2.9,>=2.8->tensorflow~=2.8.0->tf-agents[reverb]) (2.0.12)\r\n",
      "Requirement already satisfied: certifi>=2017.4.17 in /tmpfs/src/tf_docs_env/lib/python3.7/site-packages (from requests<3,>=2.21.0->tensorboard<2.9,>=2.8->tensorflow~=2.8.0->tf-agents[reverb]) (2021.10.8)\r\n",
      "Requirement already satisfied: urllib3<1.27,>=1.21.1 in /tmpfs/src/tf_docs_env/lib/python3.7/site-packages (from requests<3,>=2.21.0->tensorboard<2.9,>=2.8->tensorflow~=2.8.0->tf-agents[reverb]) (1.26.9)\r\n",
      "Requirement already satisfied: idna<4,>=2.5 in /tmpfs/src/tf_docs_env/lib/python3.7/site-packages (from requests<3,>=2.21.0->tensorboard<2.9,>=2.8->tensorflow~=2.8.0->tf-agents[reverb]) (3.3)\r\n"
     ]
    },
    {
     "name": "stdout",
     "output_type": "stream",
     "text": [
      "Requirement already satisfied: pyasn1<0.5.0,>=0.4.6 in /tmpfs/src/tf_docs_env/lib/python3.7/site-packages (from pyasn1-modules>=0.2.1->google-auth<3,>=1.6.3->tensorboard<2.9,>=2.8->tensorflow~=2.8.0->tf-agents[reverb]) (0.4.8)\r\n",
      "Requirement already satisfied: oauthlib>=3.0.0 in /tmpfs/src/tf_docs_env/lib/python3.7/site-packages (from requests-oauthlib>=0.7.0->google-auth-oauthlib<0.5,>=0.4.1->tensorboard<2.9,>=2.8->tensorflow~=2.8.0->tf-agents[reverb]) (3.2.0)\r\n"
     ]
    },
    {
     "name": "stdout",
     "output_type": "stream",
     "text": [
      "Installing collected packages: tf-estimator-nightly, keras, gym-notices, gin-config, dm-tree, pygame, portpicker, cloudpickle, tensorflow-probability, gym, dm-reverb, tf-agents, tensorflow\r\n"
     ]
    },
    {
     "name": "stdout",
     "output_type": "stream",
     "text": [
      "  Attempting uninstall: keras\r\n",
      "    Found existing installation: keras 2.9.0rc1\r\n"
     ]
    },
    {
     "name": "stdout",
     "output_type": "stream",
     "text": [
      "    Uninstalling keras-2.9.0rc1:\r\n",
      "      Successfully uninstalled keras-2.9.0rc1\r\n"
     ]
    },
    {
     "name": "stdout",
     "output_type": "stream",
     "text": [
      "  Attempting uninstall: tensorflow\r\n"
     ]
    },
    {
     "name": "stdout",
     "output_type": "stream",
     "text": [
      "    Found existing installation: tensorflow 2.9.0rc0\r\n"
     ]
    },
    {
     "name": "stdout",
     "output_type": "stream",
     "text": [
      "    Uninstalling tensorflow-2.9.0rc0:\r\n"
     ]
    },
    {
     "name": "stdout",
     "output_type": "stream",
     "text": [
      "      Successfully uninstalled tensorflow-2.9.0rc0\r\n"
     ]
    },
    {
     "name": "stdout",
     "output_type": "stream",
     "text": [
      "Successfully installed cloudpickle-2.0.0 dm-reverb-0.7.1 dm-tree-0.1.7 gin-config-0.5.0 gym-0.23.1 gym-notices-0.0.6 keras-2.8.0 portpicker-1.5.0 pygame-2.1.0 tensorflow-2.8.0 tensorflow-probability-0.16.0 tf-agents-0.12.1 tf-estimator-nightly-2.8.0.dev2021122109\r\n"
     ]
    },
    {
     "name": "stdout",
     "output_type": "stream",
     "text": [
      "Requirement already satisfied: pyglet in /tmpfs/src/tf_docs_env/lib/python3.7/site-packages (1.5.23)\r\n"
     ]
    }
   ],
   "source": [
    "!sudo apt-get update\n",
    "!sudo apt-get install -y xvfb ffmpeg freeglut3-dev\n",
    "!pip install 'imageio==2.4.0'\n",
    "!pip install pyvirtualdisplay\n",
    "!pip install tf-agents[reverb]\n",
    "!pip install pyglet"
   ]
  },
  {
   "cell_type": "code",
   "execution_count": 3,
   "metadata": {
    "execution": {
     "iopub.execute_input": "2022-04-20T12:27:38.584032Z",
     "iopub.status.busy": "2022-04-20T12:27:38.583535Z",
     "iopub.status.idle": "2022-04-20T12:27:46.899000Z",
     "shell.execute_reply": "2022-04-20T12:27:46.898389Z"
    },
    "id": "sMitx5qSgJk1"
   },
   "outputs": [],
   "source": [
    "from __future__ import absolute_import, division, print_function\n",
    "\n",
    "import base64\n",
    "import imageio\n",
    "import IPython\n",
    "import matplotlib\n",
    "import matplotlib.pyplot as plt\n",
    "import numpy as np\n",
    "import PIL.Image\n",
    "import pyvirtualdisplay\n",
    "import reverb\n",
    "\n",
    "import tensorflow as tf\n",
    "\n",
    "from tf_agents.agents.dqn import dqn_agent\n",
    "from tf_agents.drivers import py_driver\n",
    "from tf_agents.environments import suite_gym\n",
    "from tf_agents.environments import tf_py_environment\n",
    "from tf_agents.eval import metric_utils\n",
    "from tf_agents.metrics import tf_metrics\n",
    "from tf_agents.networks import sequential\n",
    "from tf_agents.policies import py_tf_eager_policy\n",
    "from tf_agents.policies import random_tf_policy\n",
    "from tf_agents.replay_buffers import reverb_replay_buffer\n",
    "from tf_agents.replay_buffers import reverb_utils\n",
    "from tf_agents.trajectories import trajectory\n",
    "from tf_agents.specs import tensor_spec\n",
    "from tf_agents.utils import common"
   ]
  },
  {
   "cell_type": "code",
   "execution_count": 4,
   "metadata": {
    "execution": {
     "iopub.execute_input": "2022-04-20T12:27:46.902905Z",
     "iopub.status.busy": "2022-04-20T12:27:46.902498Z",
     "iopub.status.idle": "2022-04-20T12:27:46.968426Z",
     "shell.execute_reply": "2022-04-20T12:27:46.967640Z"
    },
    "id": "J6HsdS5GbSjd"
   },
   "outputs": [],
   "source": [
    "# Set up a virtual display for rendering OpenAI gym environments.\n",
    "display = pyvirtualdisplay.Display(visible=0, size=(1400, 900)).start()"
   ]
  },
  {
   "cell_type": "code",
   "execution_count": 5,
   "metadata": {
    "execution": {
     "iopub.execute_input": "2022-04-20T12:27:46.972435Z",
     "iopub.status.busy": "2022-04-20T12:27:46.971939Z",
     "iopub.status.idle": "2022-04-20T12:27:46.978407Z",
     "shell.execute_reply": "2022-04-20T12:27:46.977867Z"
    },
    "id": "NspmzG4nP3b9"
   },
   "outputs": [
    {
     "data": {
      "text/plain": [
       "'2.8.0'"
      ]
     },
     "execution_count": 5,
     "metadata": {},
     "output_type": "execute_result"
    }
   ],
   "source": [
    "tf.version.VERSION"
   ]
  },
  {
   "cell_type": "markdown",
   "metadata": {
    "id": "LmC0NDhdLIKY"
   },
   "source": [
    "## Hyperparameters"
   ]
  },
  {
   "cell_type": "code",
   "execution_count": 6,
   "metadata": {
    "execution": {
     "iopub.execute_input": "2022-04-20T12:27:46.981811Z",
     "iopub.status.busy": "2022-04-20T12:27:46.981397Z",
     "iopub.status.idle": "2022-04-20T12:27:46.985129Z",
     "shell.execute_reply": "2022-04-20T12:27:46.984533Z"
    },
    "id": "HC1kNrOsLSIZ"
   },
   "outputs": [],
   "source": [
    "num_iterations = 20000 # @param {type:\"integer\"}\n",
    "\n",
    "initial_collect_steps = 100  # @param {type:\"integer\"}\n",
    "collect_steps_per_iteration =   1# @param {type:\"integer\"}\n",
    "replay_buffer_max_length = 100000  # @param {type:\"integer\"}\n",
    "\n",
    "batch_size = 64  # @param {type:\"integer\"}\n",
    "learning_rate = 1e-3  # @param {type:\"number\"}\n",
    "log_interval = 200  # @param {type:\"integer\"}\n",
    "\n",
    "num_eval_episodes = 10  # @param {type:\"integer\"}\n",
    "eval_interval = 1000  # @param {type:\"integer\"}"
   ]
  },
  {
   "cell_type": "markdown",
   "metadata": {
    "id": "VMsJC3DEgI0x"
   },
   "source": [
    "## Environment\n",
    "\n",
    "In Reinforcement Learning (RL), an environment represents the task or problem to be solved. Standard environments can be created in TF-Agents using `tf_agents.environments` suites. TF-Agents has suites for loading environments from sources such as the OpenAI Gym, Atari, and DM Control.\n",
    "\n",
    "Load the CartPole environment from the OpenAI Gym suite. "
   ]
  },
  {
   "cell_type": "code",
   "execution_count": 7,
   "metadata": {
    "execution": {
     "iopub.execute_input": "2022-04-20T12:27:46.987948Z",
     "iopub.status.busy": "2022-04-20T12:27:46.987493Z",
     "iopub.status.idle": "2022-04-20T12:27:47.254142Z",
     "shell.execute_reply": "2022-04-20T12:27:47.253535Z"
    },
    "id": "pYEz-S9gEv2-"
   },
   "outputs": [],
   "source": [
    "env_name = 'CartPole-v0'\n",
    "env = suite_gym.load(env_name)"
   ]
  },
  {
   "cell_type": "markdown",
   "metadata": {
    "id": "IIHYVBkuvPNw"
   },
   "source": [
    "You can render this environment to see how it looks. A free-swinging pole is attached to a cart.  The goal is to move the cart right or left in order to keep the pole pointing up."
   ]
  },
  {
   "cell_type": "code",
   "execution_count": 8,
   "metadata": {
    "execution": {
     "iopub.execute_input": "2022-04-20T12:27:47.257894Z",
     "iopub.status.busy": "2022-04-20T12:27:47.257373Z",
     "iopub.status.idle": "2022-04-20T12:27:47.339067Z",
     "shell.execute_reply": "2022-04-20T12:27:47.338482Z"
    },
    "id": "RlO7WIQHu_7D"
   },
   "outputs": [
    {
     "data": {
      "image/png": "[encoded data removed]",
      "text/plain": [
       "<PIL.Image.Image image mode=RGB size=600x400>"
      ]
     },
     "execution_count": 8,
     "metadata": {},
     "output_type": "execute_result"
    }
   ],
   "source": [
    "#@test {\"skip\": true}\n",
    "env.reset()\n",
    "PIL.Image.fromarray(env.render())"
   ]
  },
  {
   "cell_type": "markdown",
   "metadata": {
    "id": "B9_lskPOey18"
   },
   "source": [
    "The `environment.step` method takes an `action` in the environment and returns a `TimeStep` tuple containing the next observation of the environment and the reward for the action.\n",
    "\n",
    "The `time_step_spec()` method returns the specification for the `TimeStep` tuple. Its `observation` attribute shows the shape of observations, the data types, and the ranges of allowed values. The `reward` attribute shows the same details for the reward.\n"
   ]
  },
  {
   "cell_type": "code",
   "execution_count": 9,
   "metadata": {
    "execution": {
     "iopub.execute_input": "2022-04-20T12:27:47.342260Z",
     "iopub.status.busy": "2022-04-20T12:27:47.341829Z",
     "iopub.status.idle": "2022-04-20T12:27:47.349273Z",
     "shell.execute_reply": "2022-04-20T12:27:47.348562Z"
    },
    "id": "exDv57iHfwQV"
   },
   "outputs": [
    {
     "name": "stdout",
     "output_type": "stream",
     "text": [
      "Observation Spec:\n",
      "BoundedArraySpec(shape=(4,), dtype=dtype('float32'), name='observation', minimum=[-4.8000002e+00 -3.4028235e+38 -4.1887903e-01 -3.4028235e+38], maximum=[4.8000002e+00 3.4028235e+38 4.1887903e-01 3.4028235e+38])\n"
     ]
    }
   ],
   "source": [
    "print('Observation Spec:')\n",
    "print(env.time_step_spec().observation)"
   ]
  },
  {
   "cell_type": "code",
   "execution_count": 10,
   "metadata": {
    "execution": {
     "iopub.execute_input": "2022-04-20T12:27:47.352174Z",
     "iopub.status.busy": "2022-04-20T12:27:47.351766Z",
     "iopub.status.idle": "2022-04-20T12:27:47.355390Z",
     "shell.execute_reply": "2022-04-20T12:27:47.354864Z"
    },
    "id": "UxiSyCbBUQPi"
   },
   "outputs": [
    {
     "name": "stdout",
     "output_type": "stream",
     "text": [
      "Reward Spec:\n",
      "ArraySpec(shape=(), dtype=dtype('float32'), name='reward')\n"
     ]
    }
   ],
   "source": [
    "print('Reward Spec:')\n",
    "print(env.time_step_spec().reward)"
   ]
  },
  {
   "cell_type": "markdown",
   "metadata": {
    "id": "b_lHcIcqUaqB"
   },
   "source": [
    "The `action_spec()` method returns the shape, data types, and allowed values of valid actions."
   ]
  },
  {
   "cell_type": "code",
   "execution_count": 11,
   "metadata": {
    "execution": {
     "iopub.execute_input": "2022-04-20T12:27:47.358099Z",
     "iopub.status.busy": "2022-04-20T12:27:47.357711Z",
     "iopub.status.idle": "2022-04-20T12:27:47.361510Z",
     "shell.execute_reply": "2022-04-20T12:27:47.360944Z"
    },
    "id": "bttJ4uxZUQBr"
   },
   "outputs": [
    {
     "name": "stdout",
     "output_type": "stream",
     "text": [
      "Action Spec:\n",
      "BoundedArraySpec(shape=(), dtype=dtype('int64'), name='action', minimum=0, maximum=1)\n"
     ]
    }
   ],
   "source": [
    "print('Action Spec:')\n",
    "print(env.action_spec())"
   ]
  },
  {
   "cell_type": "markdown",
   "metadata": {
    "id": "eJCgJnx3g0yY"
   },
   "source": [
    "In the Cartpole environment:\n",
    "\n",
    "-   `observation` is an array of 4 floats: \n",
    "    -   the position and velocity of the cart\n",
    "    -   the angular position and velocity of the pole \n",
    "-   `reward` is a scalar float value\n",
    "-   `action` is a scalar integer with only two possible values:\n",
    "    -   `0` — \"move left\"\n",
    "    -   `1` — \"move right\"\n"
   ]
  },
  {
   "cell_type": "code",
   "execution_count": 12,
   "metadata": {
    "execution": {
     "iopub.execute_input": "2022-04-20T12:27:47.364583Z",
     "iopub.status.busy": "2022-04-20T12:27:47.364084Z",
     "iopub.status.idle": "2022-04-20T12:27:47.371218Z",
     "shell.execute_reply": "2022-04-20T12:27:47.370612Z"
    },
    "id": "V2UGR5t_iZX-"
   },
   "outputs": [
    {
     "name": "stdout",
     "output_type": "stream",
     "text": [
      "Time step:\n",
      "TimeStep(\n",
      "{'discount': array(1., dtype=float32),\n",
      " 'observation': array([ 0.02770752,  0.02176018, -0.02025995, -0.04113866], dtype=float32),\n",
      " 'reward': array(0., dtype=float32),\n",
      " 'step_type': array(0, dtype=int32)})\n",
      "Next time step:\n",
      "TimeStep(\n",
      "{'discount': array(1., dtype=float32),\n",
      " 'observation': array([ 0.02814272,  0.2171667 , -0.02108272, -0.3401443 ], dtype=float32),\n",
      " 'reward': array(1., dtype=float32),\n",
      " 'step_type': array(1, dtype=int32)})\n"
     ]
    }
   ],
   "source": [
    "time_step = env.reset()\n",
    "print('Time step:')\n",
    "print(time_step)\n",
    "\n",
    "action = np.array(1, dtype=np.int32)\n",
    "\n",
    "next_time_step = env.step(action)\n",
    "print('Next time step:')\n",
    "print(next_time_step)"
   ]
  },
  {
   "cell_type": "markdown",
   "metadata": {
    "id": "4JSc9GviWUBK"
   },
   "source": [
    "Usually two environments are instantiated: one for training and one for evaluation. "
   ]
  },
  {
   "cell_type": "code",
   "execution_count": 13,
   "metadata": {
    "execution": {
     "iopub.execute_input": "2022-04-20T12:27:47.374249Z",
     "iopub.status.busy": "2022-04-20T12:27:47.373844Z",
     "iopub.status.idle": "2022-04-20T12:27:47.379159Z",
     "shell.execute_reply": "2022-04-20T12:27:47.378467Z"
    },
    "id": "N7brXNIGWXjC"
   },
   "outputs": [],
   "source": [
    "train_py_env = suite_gym.load(env_name)\n",
    "eval_py_env = suite_gym.load(env_name)"
   ]
  },
  {
   "cell_type": "markdown",
   "metadata": {
    "id": "zuUqXAVmecTU"
   },
   "source": [
    "The Cartpole environment, like most environments, is written in pure Python. This is converted to TensorFlow using the `TFPyEnvironment` wrapper.\n",
    "\n",
    "The original environment's API uses Numpy arrays. The `TFPyEnvironment` converts these to `Tensors` to make it compatible with Tensorflow agents and policies.\n"
   ]
  },
  {
   "cell_type": "code",
   "execution_count": 14,
   "metadata": {
    "execution": {
     "iopub.execute_input": "2022-04-20T12:27:47.382117Z",
     "iopub.status.busy": "2022-04-20T12:27:47.381795Z",
     "iopub.status.idle": "2022-04-20T12:27:47.388439Z",
     "shell.execute_reply": "2022-04-20T12:27:47.387962Z"
    },
    "id": "Xp-Y4mD6eDhF"
   },
   "outputs": [],
   "source": [
    "train_env = tf_py_environment.TFPyEnvironment(train_py_env)\n",
    "eval_env = tf_py_environment.TFPyEnvironment(eval_py_env)"
   ]
  },
  {
   "cell_type": "markdown",
   "metadata": {
    "id": "E9lW_OZYFR8A"
   },
   "source": [
    "## Agent\n",
    "\n",
    "The algorithm used to solve an RL problem is represented by an `Agent`. TF-Agents provides standard implementations of a variety of `Agents`, including:\n",
    "\n",
    "-   [DQN](https://storage.googleapis.com/deepmind-media/dqn/DQNNaturePaper.pdf) (used in this tutorial)\n",
    "-   [REINFORCE](https://www-anw.cs.umass.edu/~barto/courses/cs687/williams92simple.pdf)\n",
    "-   [DDPG](https://arxiv.org/pdf/1509.02971.pdf)\n",
    "-   [TD3](https://arxiv.org/pdf/1802.09477.pdf)\n",
    "-   [PPO](https://arxiv.org/abs/1707.06347)\n",
    "-   [SAC](https://arxiv.org/abs/1801.01290)\n",
    "\n",
    "The DQN agent can be used in any environment which has a discrete action space.\n",
    "\n",
    "At the heart of a DQN Agent is a `QNetwork`, a neural network model that can learn to predict `QValues` (expected returns) for all actions, given an observation from the environment.\n",
    "\n",
    "We will use `tf_agents.networks.` to create a `QNetwork`. The network will consist of a sequence of `tf.keras.layers.Dense` layers, where the final layer will have 1 output for each possible action."
   ]
  },
  {
   "cell_type": "code",
   "execution_count": 15,
   "metadata": {
    "execution": {
     "iopub.execute_input": "2022-04-20T12:27:47.391283Z",
     "iopub.status.busy": "2022-04-20T12:27:47.391098Z",
     "iopub.status.idle": "2022-04-20T12:27:47.413919Z",
     "shell.execute_reply": "2022-04-20T12:27:47.413401Z"
    },
    "id": "TgkdEPg_muzV"
   },
   "outputs": [],
   "source": [
    "fc_layer_params = (100, 50)\n",
    "action_tensor_spec = tensor_spec.from_spec(env.action_spec())\n",
    "num_actions = action_tensor_spec.maximum - action_tensor_spec.minimum + 1\n",
    "\n",
    "# Define a helper function to create Dense layers configured with the right\n",
    "# activation and kernel initializer.\n",
    "def dense_layer(num_units):\n",
    "  return tf.keras.layers.Dense(\n",
    "      num_units,\n",
    "      activation=tf.keras.activations.relu,\n",
    "      kernel_initializer=tf.keras.initializers.VarianceScaling(\n",
    "          scale=2.0, mode='fan_in', distribution='truncated_normal'))\n",
    "\n",
    "# QNetwork consists of a sequence of Dense layers followed by a dense layer\n",
    "# with `num_actions` units to generate one q_value per available action as\n",
    "# its output.\n",
    "dense_layers = [dense_layer(num_units) for num_units in fc_layer_params]\n",
    "q_values_layer = tf.keras.layers.Dense(\n",
    "    num_actions,\n",
    "    activation=None,\n",
    "    kernel_initializer=tf.keras.initializers.RandomUniform(\n",
    "        minval=-0.03, maxval=0.03),\n",
    "    bias_initializer=tf.keras.initializers.Constant(-0.2))\n",
    "q_net = sequential.Sequential(dense_layers + [q_values_layer])"
   ]
  },
  {
   "cell_type": "markdown",
   "metadata": {
    "id": "z62u55hSmviJ"
   },
   "source": [
    "Now use `tf_agents.agents.dqn.dqn_agent` to instantiate a `DqnAgent`. In addition to the `time_step_spec`, `action_spec` and the QNetwork, the agent constructor also requires an optimizer (in this case, `AdamOptimizer`), a loss function, and an integer step counter."
   ]
  },
  {
   "cell_type": "code",
   "execution_count": 16,
   "metadata": {
    "execution": {
     "iopub.execute_input": "2022-04-20T12:27:47.416891Z",
     "iopub.status.busy": "2022-04-20T12:27:47.416470Z",
     "iopub.status.idle": "2022-04-20T12:27:49.409373Z",
     "shell.execute_reply": "2022-04-20T12:27:49.408656Z"
    },
    "id": "jbY4yrjTEyc9"
   },
   "outputs": [],
   "source": [
    "optimizer = tf.keras.optimizers.Adam(learning_rate=learning_rate)\n",
    "\n",
    "train_step_counter = tf.Variable(0)\n",
    "\n",
    "agent = dqn_agent.DqnAgent(\n",
    "    train_env.time_step_spec(),\n",
    "    train_env.action_spec(),\n",
    "    q_network=q_net,\n",
    "    optimizer=optimizer,\n",
    "    td_errors_loss_fn=common.element_wise_squared_loss,\n",
    "    train_step_counter=train_step_counter)\n",
    "\n",
    "agent.initialize()"
   ]
  },
  {
   "cell_type": "markdown",
   "metadata": {
    "id": "I0KLrEPwkn5x"
   },
   "source": [
    "## Policies\n",
    "\n",
    "A policy defines the way an agent acts in an environment. Typically, the goal of reinforcement learning is to train the underlying model until the policy produces the desired outcome.\n",
    "\n",
    "In this tutorial:\n",
    "\n",
    "-   The desired outcome is keeping the pole balanced upright over the cart.\n",
    "-   The policy returns an action (left or right) for each `time_step` observation.\n",
    "\n",
    "Agents contain two policies: \n",
    "\n",
    "-   `agent.policy` — The main policy that is used for evaluation and deployment.\n",
    "-   `agent.collect_policy` — A second policy that is used for data collection.\n"
   ]
  },
  {
   "cell_type": "code",
   "execution_count": 17,
   "metadata": {
    "execution": {
     "iopub.execute_input": "2022-04-20T12:27:49.413211Z",
     "iopub.status.busy": "2022-04-20T12:27:49.413024Z",
     "iopub.status.idle": "2022-04-20T12:27:49.416056Z",
     "shell.execute_reply": "2022-04-20T12:27:49.415544Z"
    },
    "id": "BwY7StuMkuV4"
   },
   "outputs": [],
   "source": [
    "eval_policy = agent.policy\n",
    "collect_policy = agent.collect_policy"
   ]
  },
  {
   "cell_type": "markdown",
   "metadata": {
    "id": "2Qs1Fl3dV0ae"
   },
   "source": [
    "Policies can be created independently of agents. For example, use `tf_agents.policies.random_tf_policy` to create a policy which will randomly select an action for each `time_step`."
   ]
  },
  {
   "cell_type": "code",
   "execution_count": 18,
   "metadata": {
    "execution": {
     "iopub.execute_input": "2022-04-20T12:27:49.418908Z",
     "iopub.status.busy": "2022-04-20T12:27:49.418433Z",
     "iopub.status.idle": "2022-04-20T12:27:49.421929Z",
     "shell.execute_reply": "2022-04-20T12:27:49.421413Z"
    },
    "id": "HE37-UCIrE69"
   },
   "outputs": [],
   "source": [
    "random_policy = random_tf_policy.RandomTFPolicy(train_env.time_step_spec(),\n",
    "                                                train_env.action_spec())"
   ]
  },
  {
   "cell_type": "markdown",
   "metadata": {
    "id": "dOlnlRRsUbxP"
   },
   "source": [
    "To get an action from a policy, call the `policy.action(time_step)` method. The `time_step` contains the observation from the environment. This method returns a `PolicyStep`, which is a named tuple with three components:\n",
    "\n",
    "-   `action` — the action to be taken (in this case, `0` or `1`)\n",
    "-   `state` — used for stateful (that is, RNN-based) policies\n",
    "-   `info` — auxiliary data, such as log probabilities of actions"
   ]
  },
  {
   "cell_type": "code",
   "execution_count": 19,
   "metadata": {
    "execution": {
     "iopub.execute_input": "2022-04-20T12:27:49.424668Z",
     "iopub.status.busy": "2022-04-20T12:27:49.424289Z",
     "iopub.status.idle": "2022-04-20T12:27:49.429967Z",
     "shell.execute_reply": "2022-04-20T12:27:49.429298Z"
    },
    "id": "5gCcpXswVAxk"
   },
   "outputs": [],
   "source": [
    "example_environment = tf_py_environment.TFPyEnvironment(\n",
    "    suite_gym.load('CartPole-v0'))"
   ]
  },
  {
   "cell_type": "code",
   "execution_count": 20,
   "metadata": {
    "execution": {
     "iopub.execute_input": "2022-04-20T12:27:49.432756Z",
     "iopub.status.busy": "2022-04-20T12:27:49.432362Z",
     "iopub.status.idle": "2022-04-20T12:27:49.436426Z",
     "shell.execute_reply": "2022-04-20T12:27:49.435928Z"
    },
    "id": "D4DHZtq3Ndis"
   },
   "outputs": [],
   "source": [
    "time_step = example_environment.reset()"
   ]
  },
  {
   "cell_type": "code",
   "execution_count": 21,
   "metadata": {
    "execution": {
     "iopub.execute_input": "2022-04-20T12:27:49.439072Z",
     "iopub.status.busy": "2022-04-20T12:27:49.438569Z",
     "iopub.status.idle": "2022-04-20T12:27:49.446085Z",
     "shell.execute_reply": "2022-04-20T12:27:49.445642Z"
    },
    "id": "PRFqAUzpNaAW"
   },
   "outputs": [
    {
     "data": {
      "text/plain": [
       "PolicyStep(action=<tf.Tensor: shape=(1,), dtype=int64, numpy=array([1])>, state=(), info=())"
      ]
     },
     "execution_count": 21,
     "metadata": {},
     "output_type": "execute_result"
    }
   ],
   "source": [
    "random_policy.action(time_step)"
   ]
  },
  {
   "cell_type": "markdown",
   "metadata": {
    "id": "94rCXQtbUbXv"
   },
   "source": [
    "## Metrics and Evaluation\n",
    "\n",
    "The most common metric used to evaluate a policy is the average return. The return is the sum of rewards obtained while running a policy in an environment for an episode. Several episodes are run, creating an average return.\n",
    "\n",
    "The following function computes the average return of a policy, given the policy, environment, and a number of episodes.\n"
   ]
  },
  {
   "cell_type": "code",
   "execution_count": 22,
   "metadata": {
    "execution": {
     "iopub.execute_input": "2022-04-20T12:27:49.448936Z",
     "iopub.status.busy": "2022-04-20T12:27:49.448550Z",
     "iopub.status.idle": "2022-04-20T12:27:49.452992Z",
     "shell.execute_reply": "2022-04-20T12:27:49.452504Z"
    },
    "id": "bitzHo5_UbXy"
   },
   "outputs": [],
   "source": [
    "#@test {\"skip\": true}\n",
    "def compute_avg_return(environment, policy, num_episodes=10):\n",
    "\n",
    "  total_return = 0.0\n",
    "  for _ in range(num_episodes):\n",
    "\n",
    "    time_step = environment.reset()\n",
    "    episode_return = 0.0\n",
    "\n",
    "    while not time_step.is_last():\n",
    "      action_step = policy.action(time_step)\n",
    "      time_step = environment.step(action_step.action)\n",
    "      episode_return += time_step.reward\n",
    "    total_return += episode_return\n",
    "\n",
    "  avg_return = total_return / num_episodes\n",
    "  return avg_return.numpy()[0]\n",
    "\n",
    "\n",
    "# See also the metrics module for standard implementations of different metrics.\n",
    "# https://github.com/tensorflow/agents/tree/master/tf_agents/metrics"
   ]
  },
  {
   "cell_type": "markdown",
   "metadata": {
    "id": "_snCVvq5Z8lJ"
   },
   "source": [
    "Running this computation on the `random_policy` shows a baseline performance in the environment."
   ]
  },
  {
   "cell_type": "code",
   "execution_count": 23,
   "metadata": {
    "execution": {
     "iopub.execute_input": "2022-04-20T12:27:49.455701Z",
     "iopub.status.busy": "2022-04-20T12:27:49.455317Z",
     "iopub.status.idle": "2022-04-20T12:27:50.179643Z",
     "shell.execute_reply": "2022-04-20T12:27:50.179050Z"
    },
    "id": "9bgU6Q6BZ8Bp"
   },
   "outputs": [
    {
     "data": {
      "text/plain": [
       "24.5"
      ]
     },
     "execution_count": 23,
     "metadata": {},
     "output_type": "execute_result"
    }
   ],
   "source": [
    "compute_avg_return(eval_env, random_policy, num_eval_episodes)"
   ]
  },
  {
   "cell_type": "markdown",
   "metadata": {
    "id": "NLva6g2jdWgr"
   },
   "source": [
    "## Replay Buffer\n",
    "\n",
    "In order to keep track of the data collected from the environment, we will use [Reverb](https://deepmind.com/research/open-source/Reverb), an efficient, extensible, and easy-to-use replay system by Deepmind. It stores experience data when we collect trajectories and is consumed during training.\n",
    "\n",
    "This replay buffer is constructed using specs describing the tensors that are to be stored, which can be obtained from the agent using agent.collect_data_spec.\n"
   ]
  },
  {
   "cell_type": "code",
   "execution_count": 24,
   "metadata": {
    "execution": {
     "iopub.execute_input": "2022-04-20T12:27:50.183073Z",
     "iopub.status.busy": "2022-04-20T12:27:50.182591Z",
     "iopub.status.idle": "2022-04-20T12:27:50.198100Z",
     "shell.execute_reply": "2022-04-20T12:27:50.197558Z"
    },
    "id": "vX2zGUWJGWAl"
   },
   "outputs": [
    {
     "name": "stderr",
     "output_type": "stream",
     "text": [
      "[reverb/cc/platform/tfrecord_checkpointer.cc:150]  Initializing TFRecordCheckpointer in /tmp/tmpex9gsd9i.\n",
      "[reverb/cc/platform/tfrecord_checkpointer.cc:386] Loading latest checkpoint from /tmp/tmpex9gsd9i\n",
      "[reverb/cc/platform/default/server.cc:71] Started replay server on port 16567\n"
     ]
    }
   ],
   "source": [
    "table_name = 'uniform_table'\n",
    "replay_buffer_signature = tensor_spec.from_spec(\n",
    "      agent.collect_data_spec)\n",
    "replay_buffer_signature = tensor_spec.add_outer_dim(\n",
    "    replay_buffer_signature)\n",
    "\n",
    "table = reverb.Table(\n",
    "    table_name,\n",
    "    max_size=replay_buffer_max_length,\n",
    "    sampler=reverb.selectors.Uniform(),\n",
    "    remover=reverb.selectors.Fifo(),\n",
    "    rate_limiter=reverb.rate_limiters.MinSize(1),\n",
    "    signature=replay_buffer_signature)\n",
    "\n",
    "reverb_server = reverb.Server([table])\n",
    "\n",
    "replay_buffer = reverb_replay_buffer.ReverbReplayBuffer(\n",
    "    agent.collect_data_spec,\n",
    "    table_name=table_name,\n",
    "    sequence_length=2,\n",
    "    local_server=reverb_server)\n",
    "\n",
    "rb_observer = reverb_utils.ReverbAddTrajectoryObserver(\n",
    "  replay_buffer.py_client,\n",
    "  table_name,\n",
    "  sequence_length=2)"
   ]
  },
  {
   "cell_type": "markdown",
   "metadata": {
    "id": "ZGNTDJpZs4NN"
   },
   "source": [
    "For most agents, `collect_data_spec` is a named tuple called `Trajectory`, containing the specs for observations, actions, rewards, and other items."
   ]
  },
  {
   "cell_type": "code",
   "execution_count": 25,
   "metadata": {
    "execution": {
     "iopub.execute_input": "2022-04-20T12:27:50.201239Z",
     "iopub.status.busy": "2022-04-20T12:27:50.200781Z",
     "iopub.status.idle": "2022-04-20T12:27:50.206186Z",
     "shell.execute_reply": "2022-04-20T12:27:50.205627Z"
    },
    "id": "_IZ-3HcqgE1z"
   },
   "outputs": [
    {
     "data": {
      "text/plain": [
       "Trajectory(\n",
       "{'action': BoundedTensorSpec(shape=(), dtype=tf.int64, name='action', minimum=array(0), maximum=array(1)),\n",
       " 'discount': BoundedTensorSpec(shape=(), dtype=tf.float32, name='discount', minimum=array(0., dtype=float32), maximum=array(1., dtype=float32)),\n",
       " 'next_step_type': TensorSpec(shape=(), dtype=tf.int32, name='step_type'),\n",
       " 'observation': BoundedTensorSpec(shape=(4,), dtype=tf.float32, name='observation', minimum=array([-4.8000002e+00, -3.4028235e+38, -4.1887903e-01, -3.4028235e+38],\n",
       "      dtype=float32), maximum=array([4.8000002e+00, 3.4028235e+38, 4.1887903e-01, 3.4028235e+38],\n",
       "      dtype=float32)),\n",
       " 'policy_info': (),\n",
       " 'reward': TensorSpec(shape=(), dtype=tf.float32, name='reward'),\n",
       " 'step_type': TensorSpec(shape=(), dtype=tf.int32, name='step_type')})"
      ]
     },
     "execution_count": 25,
     "metadata": {},
     "output_type": "execute_result"
    }
   ],
   "source": [
    "agent.collect_data_spec"
   ]
  },
  {
   "cell_type": "code",
   "execution_count": 26,
   "metadata": {
    "execution": {
     "iopub.execute_input": "2022-04-20T12:27:50.208896Z",
     "iopub.status.busy": "2022-04-20T12:27:50.208505Z",
     "iopub.status.idle": "2022-04-20T12:27:50.212649Z",
     "shell.execute_reply": "2022-04-20T12:27:50.212152Z"
    },
    "id": "sy6g1tGcfRlw"
   },
   "outputs": [
    {
     "data": {
      "text/plain": [
       "('step_type',\n",
       " 'observation',\n",
       " 'action',\n",
       " 'policy_info',\n",
       " 'next_step_type',\n",
       " 'reward',\n",
       " 'discount')"
      ]
     },
     "execution_count": 26,
     "metadata": {},
     "output_type": "execute_result"
    }
   ],
   "source": [
    "agent.collect_data_spec._fields"
   ]
  },
  {
   "cell_type": "markdown",
   "metadata": {
    "id": "rVD5nQ9ZGo8_"
   },
   "source": [
    "## Data Collection\n",
    "\n",
    "Now execute the random policy in the environment for a few steps, recording the data in the replay buffer.\n",
    "\n",
    "Here we are using 'PyDriver' to run the experience collecting loop. You can learn more about TF Agents driver in our [drivers tutorial](https://www.tensorflow.org/agents/tutorials/4_drivers_tutorial)."
   ]
  },
  {
   "cell_type": "code",
   "execution_count": 27,
   "metadata": {
    "execution": {
     "iopub.execute_input": "2022-04-20T12:27:50.215394Z",
     "iopub.status.busy": "2022-04-20T12:27:50.214959Z",
     "iopub.status.idle": "2022-04-20T12:27:50.477240Z",
     "shell.execute_reply": "2022-04-20T12:27:50.476576Z"
    },
    "id": "wr1KSAEGG4h9"
   },
   "outputs": [
    {
     "data": {
      "text/plain": [
       "(TimeStep(\n",
       " {'discount': array(1., dtype=float32),\n",
       "  'observation': array([-0.03169468,  0.22178403, -0.04634012, -0.29338053], dtype=float32),\n",
       "  'reward': array(1., dtype=float32),\n",
       "  'step_type': array(1, dtype=int32)}),\n",
       " ())"
      ]
     },
     "execution_count": 27,
     "metadata": {},
     "output_type": "execute_result"
    }
   ],
   "source": [
    "#@test {\"skip\": true}\n",
    "py_driver.PyDriver(\n",
    "    env,\n",
    "    py_tf_eager_policy.PyTFEagerPolicy(\n",
    "      random_policy, use_tf_function=True),\n",
    "    [rb_observer],\n",
    "    max_steps=initial_collect_steps).run(train_py_env.reset())"
   ]
  },
  {
   "cell_type": "markdown",
   "metadata": {
    "id": "84z5pQJdoKxo"
   },
   "source": [
    "The replay buffer is now a collection of Trajectories."
   ]
  },
  {
   "cell_type": "code",
   "execution_count": 28,
   "metadata": {
    "execution": {
     "iopub.execute_input": "2022-04-20T12:27:50.480772Z",
     "iopub.status.busy": "2022-04-20T12:27:50.480206Z",
     "iopub.status.idle": "2022-04-20T12:27:50.482990Z",
     "shell.execute_reply": "2022-04-20T12:27:50.482436Z"
    },
    "id": "4wZnLu2ViO4E"
   },
   "outputs": [],
   "source": [
    "# For the curious:\n",
    "# Uncomment to peel one of these off and inspect it.\n",
    "# iter(replay_buffer.as_dataset()).next()"
   ]
  },
  {
   "cell_type": "markdown",
   "metadata": {
    "id": "TujU-PMUsKjS"
   },
   "source": [
    "The agent needs access to the replay buffer. This is provided by creating an iterable `tf.data.Dataset` pipeline which will feed data to the agent.\n",
    "\n",
    "Each row of the replay buffer only stores a single observation step. But since the DQN Agent needs both the current and next observation to compute the loss, the dataset pipeline will sample two adjacent rows for each item in the batch (`num_steps=2`).\n",
    "\n",
    "This dataset is also optimized by running parallel calls and prefetching data."
   ]
  },
  {
   "cell_type": "code",
   "execution_count": 29,
   "metadata": {
    "execution": {
     "iopub.execute_input": "2022-04-20T12:27:50.485897Z",
     "iopub.status.busy": "2022-04-20T12:27:50.485467Z",
     "iopub.status.idle": "2022-04-20T12:27:50.941799Z",
     "shell.execute_reply": "2022-04-20T12:27:50.941193Z"
    },
    "id": "ba7bilizt_qW"
   },
   "outputs": [
    {
     "data": {
      "text/plain": [
       "<PrefetchDataset element_spec=(Trajectory(\n",
       "{'action': TensorSpec(shape=(64, 2), dtype=tf.int64, name=None),\n",
       " 'discount': TensorSpec(shape=(64, 2), dtype=tf.float32, name=None),\n",
       " 'next_step_type': TensorSpec(shape=(64, 2), dtype=tf.int32, name=None),\n",
       " 'observation': TensorSpec(shape=(64, 2, 4), dtype=tf.float32, name=None),\n",
       " 'policy_info': (),\n",
       " 'reward': TensorSpec(shape=(64, 2), dtype=tf.float32, name=None),\n",
       " 'step_type': TensorSpec(shape=(64, 2), dtype=tf.int32, name=None)}), SampleInfo(key=TensorSpec(shape=(64, 2), dtype=tf.uint64, name=None), probability=TensorSpec(shape=(64, 2), dtype=tf.float64, name=None), table_size=TensorSpec(shape=(64, 2), dtype=tf.int64, name=None), priority=TensorSpec(shape=(64, 2), dtype=tf.float64, name=None)))>"
      ]
     },
     "execution_count": 29,
     "metadata": {},
     "output_type": "execute_result"
    }
   ],
   "source": [
    "# Dataset generates trajectories with shape [Bx2x...]\n",
    "dataset = replay_buffer.as_dataset(\n",
    "    num_parallel_calls=3,\n",
    "    sample_batch_size=batch_size,\n",
    "    num_steps=2).prefetch(3)\n",
    "\n",
    "dataset"
   ]
  },
  {
   "cell_type": "code",
   "execution_count": 30,
   "metadata": {
    "execution": {
     "iopub.execute_input": "2022-04-20T12:27:50.945163Z",
     "iopub.status.busy": "2022-04-20T12:27:50.944696Z",
     "iopub.status.idle": "2022-04-20T12:27:51.009874Z",
     "shell.execute_reply": "2022-04-20T12:27:51.009297Z"
    },
    "id": "K13AST-2ppOq"
   },
   "outputs": [
    {
     "name": "stdout",
     "output_type": "stream",
     "text": [
      "<tensorflow.python.data.ops.iterator_ops.OwnedIterator object at 0x7fd6e048a850>\n"
     ]
    }
   ],
   "source": [
    "iterator = iter(dataset)\n",
    "print(iterator)"
   ]
  },
  {
   "cell_type": "code",
   "execution_count": 31,
   "metadata": {
    "execution": {
     "iopub.execute_input": "2022-04-20T12:27:51.013059Z",
     "iopub.status.busy": "2022-04-20T12:27:51.012604Z",
     "iopub.status.idle": "2022-04-20T12:27:51.015353Z",
     "shell.execute_reply": "2022-04-20T12:27:51.014815Z"
    },
    "id": "Th5w5Sff0b16"
   },
   "outputs": [],
   "source": [
    "# For the curious:\n",
    "# Uncomment to see what the dataset iterator is feeding to the agent.\n",
    "# Compare this representation of replay data \n",
    "# to the collection of individual trajectories shown earlier.\n",
    "\n",
    "# iterator.next()"
   ]
  },
  {
   "cell_type": "markdown",
   "metadata": {
    "id": "hBc9lj9VWWtZ"
   },
   "source": [
    "## Training the agent\n",
    "\n",
    "Two things must happen during the training loop:\n",
    "\n",
    "-   collect data from the environment\n",
    "-   use that data to train the agent's neural network(s)\n",
    "\n",
    "This example also periodicially evaluates the policy and prints the current score.\n",
    "\n",
    "The following will take ~5 minutes to run."
   ]
  },
  {
   "cell_type": "code",
   "execution_count": 32,
   "metadata": {
    "execution": {
     "iopub.execute_input": "2022-04-20T12:27:51.018357Z",
     "iopub.status.busy": "2022-04-20T12:27:51.017921Z",
     "iopub.status.idle": "2022-04-20T12:33:49.953361Z",
     "shell.execute_reply": "2022-04-20T12:33:49.952670Z"
    },
    "id": "0pTbJ3PeyF-u"
   },
   "outputs": [
    {
     "name": "stdout",
     "output_type": "stream",
     "text": [
      "WARNING:tensorflow:From /tmpfs/src/tf_docs_env/lib/python3.7/site-packages/tensorflow/python/util/dispatch.py:1082: calling foldr_v2 (from tensorflow.python.ops.functional_ops) with back_prop=False is deprecated and will be removed in a future version.\n",
      "Instructions for updating:\n",
      "back_prop=False is deprecated. Consider using tf.stop_gradient instead.\n",
      "Instead of:\n",
      "results = tf.foldr(fn, elems, back_prop=False)\n",
      "Use:\n",
      "results = tf.nest.map_structure(tf.stop_gradient, tf.foldr(fn, elems))\n"
     ]
    },
    {
     "name": "stderr",
     "output_type": "stream",
     "text": [
      "[reverb/cc/client.cc:165] Sampler and server are owned by the same process (31324) so Table uniform_table is accessed directly without gRPC.\n",
      "[reverb/cc/client.cc:165] Sampler and server are owned by the same process (31324) so Table uniform_table is accessed directly without gRPC.\n",
      "[reverb/cc/client.cc:165] Sampler and server are owned by the same process (31324) so Table uniform_table is accessed directly without gRPC.\n",
      "[reverb/cc/client.cc:165] Sampler and server are owned by the same process (31324) so Table uniform_table is accessed directly without gRPC.\n",
      "[reverb/cc/client.cc:165] Sampler and server are owned by the same process (31324) so Table uniform_table is accessed directly without gRPC.\n",
      "[reverb/cc/client.cc:165] Sampler and server are owned by the same process (31324) so Table uniform_table is accessed directly without gRPC.\n"
     ]
    },
    {
     "name": "stdout",
     "output_type": "stream",
     "text": [
      "step = 200: loss = 17.73377227783203\n"
     ]
    },
    {
     "name": "stdout",
     "output_type": "stream",
     "text": [
      "step = 400: loss = 16.053699493408203\n"
     ]
    },
    {
     "name": "stdout",
     "output_type": "stream",
     "text": [
      "step = 600: loss = 26.750442504882812\n"
     ]
    },
    {
     "name": "stdout",
     "output_type": "stream",
     "text": [
      "step = 800: loss = 22.767242431640625\n"
     ]
    },
    {
     "name": "stdout",
     "output_type": "stream",
     "text": [
      "step = 1000: loss = 92.83126831054688\n"
     ]
    },
    {
     "name": "stdout",
     "output_type": "stream",
     "text": [
      "step = 1000: Average Return = 24.200000762939453\n"
     ]
    },
    {
     "name": "stdout",
     "output_type": "stream",
     "text": [
      "step = 1200: loss = 596.8173828125\n"
     ]
    },
    {
     "name": "stdout",
     "output_type": "stream",
     "text": [
      "step = 1400: loss = 1389.7109375\n"
     ]
    },
    {
     "name": "stdout",
     "output_type": "stream",
     "text": [
      "step = 1600: loss = 422.44915771484375\n"
     ]
    },
    {
     "name": "stdout",
     "output_type": "stream",
     "text": [
      "step = 1800: loss = 369.82086181640625\n"
     ]
    },
    {
     "name": "stdout",
     "output_type": "stream",
     "text": [
      "step = 2000: loss = 1322.167236328125\n"
     ]
    },
    {
     "name": "stdout",
     "output_type": "stream",
     "text": [
      "step = 2000: Average Return = 127.19999694824219\n"
     ]
    },
    {
     "name": "stdout",
     "output_type": "stream",
     "text": [
      "step = 2200: loss = 488.095703125\n"
     ]
    },
    {
     "name": "stdout",
     "output_type": "stream",
     "text": [
      "step = 2400: loss = 65.50473022460938\n"
     ]
    },
    {
     "name": "stdout",
     "output_type": "stream",
     "text": [
      "step = 2600: loss = 54.454952239990234\n"
     ]
    },
    {
     "name": "stdout",
     "output_type": "stream",
     "text": [
      "step = 2800: loss = 76.97438049316406\n"
     ]
    },
    {
     "name": "stdout",
     "output_type": "stream",
     "text": [
      "step = 3000: loss = 48.65338134765625\n"
     ]
    },
    {
     "name": "stdout",
     "output_type": "stream",
     "text": [
      "step = 3000: Average Return = 200.0\n"
     ]
    },
    {
     "name": "stdout",
     "output_type": "stream",
     "text": [
      "step = 3200: loss = 322.4064636230469\n"
     ]
    },
    {
     "name": "stdout",
     "output_type": "stream",
     "text": [
      "step = 3400: loss = 102.30340576171875\n"
     ]
    },
    {
     "name": "stdout",
     "output_type": "stream",
     "text": [
      "step = 3600: loss = 10057.9150390625\n"
     ]
    },
    {
     "name": "stdout",
     "output_type": "stream",
     "text": [
      "step = 3800: loss = 624.7687377929688\n"
     ]
    },
    {
     "name": "stdout",
     "output_type": "stream",
     "text": [
      "step = 4000: loss = 192.5869903564453\n"
     ]
    },
    {
     "name": "stdout",
     "output_type": "stream",
     "text": [
      "step = 4000: Average Return = 200.0\n"
     ]
    },
    {
     "name": "stdout",
     "output_type": "stream",
     "text": [
      "step = 4200: loss = 149.97506713867188\n"
     ]
    },
    {
     "name": "stdout",
     "output_type": "stream",
     "text": [
      "step = 4400: loss = 1013.7396240234375\n"
     ]
    },
    {
     "name": "stdout",
     "output_type": "stream",
     "text": [
      "step = 4600: loss = 163.00282287597656\n"
     ]
    },
    {
     "name": "stdout",
     "output_type": "stream",
     "text": [
      "step = 4800: loss = 123.46039581298828\n"
     ]
    },
    {
     "name": "stdout",
     "output_type": "stream",
     "text": [
      "step = 5000: loss = 249.43446350097656\n"
     ]
    },
    {
     "name": "stdout",
     "output_type": "stream",
     "text": [
      "step = 5000: Average Return = 200.0\n"
     ]
    },
    {
     "name": "stdout",
     "output_type": "stream",
     "text": [
      "step = 5200: loss = 180.26136779785156\n"
     ]
    },
    {
     "name": "stdout",
     "output_type": "stream",
     "text": [
      "step = 5400: loss = 274.4859619140625\n"
     ]
    },
    {
     "name": "stdout",
     "output_type": "stream",
     "text": [
      "step = 5600: loss = 142.9490966796875\n"
     ]
    },
    {
     "name": "stdout",
     "output_type": "stream",
     "text": [
      "step = 5800: loss = 265.104248046875\n"
     ]
    },
    {
     "name": "stdout",
     "output_type": "stream",
     "text": [
      "step = 6000: loss = 99.31446075439453\n"
     ]
    },
    {
     "name": "stdout",
     "output_type": "stream",
     "text": [
      "step = 6000: Average Return = 200.0\n"
     ]
    },
    {
     "name": "stdout",
     "output_type": "stream",
     "text": [
      "step = 6200: loss = 504.9732971191406\n"
     ]
    },
    {
     "name": "stdout",
     "output_type": "stream",
     "text": [
      "step = 6400: loss = 433.50872802734375\n"
     ]
    },
    {
     "name": "stdout",
     "output_type": "stream",
     "text": [
      "step = 6600: loss = 233.46617126464844\n"
     ]
    },
    {
     "name": "stdout",
     "output_type": "stream",
     "text": [
      "step = 6800: loss = 171.86830139160156\n"
     ]
    },
    {
     "name": "stdout",
     "output_type": "stream",
     "text": [
      "step = 7000: loss = 320.6266174316406\n"
     ]
    },
    {
     "name": "stdout",
     "output_type": "stream",
     "text": [
      "step = 7000: Average Return = 200.0\n"
     ]
    },
    {
     "name": "stdout",
     "output_type": "stream",
     "text": [
      "step = 7200: loss = 663.1802978515625\n"
     ]
    },
    {
     "name": "stdout",
     "output_type": "stream",
     "text": [
      "step = 7400: loss = 2174.20849609375\n"
     ]
    },
    {
     "name": "stdout",
     "output_type": "stream",
     "text": [
      "step = 7600: loss = 318.20208740234375\n"
     ]
    },
    {
     "name": "stdout",
     "output_type": "stream",
     "text": [
      "step = 7800: loss = 715.7877197265625\n"
     ]
    },
    {
     "name": "stdout",
     "output_type": "stream",
     "text": [
      "step = 8000: loss = 815.9506225585938\n"
     ]
    },
    {
     "name": "stdout",
     "output_type": "stream",
     "text": [
      "step = 8000: Average Return = 200.0\n"
     ]
    },
    {
     "name": "stdout",
     "output_type": "stream",
     "text": [
      "step = 8200: loss = 363.78826904296875\n"
     ]
    },
    {
     "name": "stdout",
     "output_type": "stream",
     "text": [
      "step = 8400: loss = 727.6519165039062\n"
     ]
    },
    {
     "name": "stdout",
     "output_type": "stream",
     "text": [
      "step = 8600: loss = 22101.46484375\n"
     ]
    },
    {
     "name": "stdout",
     "output_type": "stream",
     "text": [
      "step = 8800: loss = 87152.0703125\n"
     ]
    },
    {
     "name": "stdout",
     "output_type": "stream",
     "text": [
      "step = 9000: loss = 218859.03125\n"
     ]
    },
    {
     "name": "stdout",
     "output_type": "stream",
     "text": [
      "step = 9000: Average Return = 200.0\n"
     ]
    },
    {
     "name": "stdout",
     "output_type": "stream",
     "text": [
      "step = 9200: loss = 6324.8720703125\n"
     ]
    },
    {
     "name": "stdout",
     "output_type": "stream",
     "text": [
      "step = 9400: loss = 6159.978515625\n"
     ]
    },
    {
     "name": "stdout",
     "output_type": "stream",
     "text": [
      "step = 9600: loss = 91226.8828125\n"
     ]
    },
    {
     "name": "stdout",
     "output_type": "stream",
     "text": [
      "step = 9800: loss = 2191.81103515625\n"
     ]
    },
    {
     "name": "stdout",
     "output_type": "stream",
     "text": [
      "step = 10000: loss = 3870.4853515625\n"
     ]
    },
    {
     "name": "stdout",
     "output_type": "stream",
     "text": [
      "step = 10000: Average Return = 200.0\n"
     ]
    },
    {
     "name": "stdout",
     "output_type": "stream",
     "text": [
      "step = 10200: loss = 3510.731689453125\n"
     ]
    },
    {
     "name": "stdout",
     "output_type": "stream",
     "text": [
      "step = 10400: loss = 2777.28076171875\n"
     ]
    },
    {
     "name": "stdout",
     "output_type": "stream",
     "text": [
      "step = 10600: loss = 1568.3370361328125\n"
     ]
    },
    {
     "name": "stdout",
     "output_type": "stream",
     "text": [
      "step = 10800: loss = 1405.71435546875\n"
     ]
    },
    {
     "name": "stdout",
     "output_type": "stream",
     "text": [
      "step = 11000: loss = 1438.4564208984375\n"
     ]
    },
    {
     "name": "stdout",
     "output_type": "stream",
     "text": [
      "step = 11000: Average Return = 193.60000610351562\n"
     ]
    },
    {
     "name": "stdout",
     "output_type": "stream",
     "text": [
      "step = 11200: loss = 1267.499755859375\n"
     ]
    },
    {
     "name": "stdout",
     "output_type": "stream",
     "text": [
      "step = 11400: loss = 934.3441772460938\n"
     ]
    },
    {
     "name": "stdout",
     "output_type": "stream",
     "text": [
      "step = 11600: loss = 66292.8125\n"
     ]
    },
    {
     "name": "stdout",
     "output_type": "stream",
     "text": [
      "step = 11800: loss = 839.389892578125\n"
     ]
    },
    {
     "name": "stdout",
     "output_type": "stream",
     "text": [
      "step = 12000: loss = 549.8612060546875\n"
     ]
    },
    {
     "name": "stdout",
     "output_type": "stream",
     "text": [
      "step = 12000: Average Return = 200.0\n"
     ]
    },
    {
     "name": "stdout",
     "output_type": "stream",
     "text": [
      "step = 12200: loss = 1425.1572265625\n"
     ]
    },
    {
     "name": "stdout",
     "output_type": "stream",
     "text": [
      "step = 12400: loss = 971.7129516601562\n"
     ]
    },
    {
     "name": "stdout",
     "output_type": "stream",
     "text": [
      "step = 12600: loss = 1330.09033203125\n"
     ]
    },
    {
     "name": "stdout",
     "output_type": "stream",
     "text": [
      "step = 12800: loss = 1101.193115234375\n"
     ]
    },
    {
     "name": "stdout",
     "output_type": "stream",
     "text": [
      "step = 13000: loss = 1393.146728515625\n"
     ]
    },
    {
     "name": "stdout",
     "output_type": "stream",
     "text": [
      "step = 13000: Average Return = 200.0\n"
     ]
    },
    {
     "name": "stdout",
     "output_type": "stream",
     "text": [
      "step = 13200: loss = 128613.703125\n"
     ]
    },
    {
     "name": "stdout",
     "output_type": "stream",
     "text": [
      "step = 13400: loss = 870.7445678710938\n"
     ]
    },
    {
     "name": "stdout",
     "output_type": "stream",
     "text": [
      "step = 13600: loss = 10827.3525390625\n"
     ]
    },
    {
     "name": "stdout",
     "output_type": "stream",
     "text": [
      "step = 13800: loss = 14036.9287109375\n"
     ]
    },
    {
     "name": "stdout",
     "output_type": "stream",
     "text": [
      "step = 14000: loss = 2139.141845703125\n"
     ]
    },
    {
     "name": "stdout",
     "output_type": "stream",
     "text": [
      "step = 14000: Average Return = 200.0\n"
     ]
    },
    {
     "name": "stdout",
     "output_type": "stream",
     "text": [
      "step = 14200: loss = 3368.240966796875\n"
     ]
    },
    {
     "name": "stdout",
     "output_type": "stream",
     "text": [
      "step = 14400: loss = 5711.291015625\n"
     ]
    },
    {
     "name": "stdout",
     "output_type": "stream",
     "text": [
      "step = 14600: loss = 338034.875\n"
     ]
    },
    {
     "name": "stdout",
     "output_type": "stream",
     "text": [
      "step = 14800: loss = 2063.09814453125\n"
     ]
    },
    {
     "name": "stdout",
     "output_type": "stream",
     "text": [
      "step = 15000: loss = 2201.29296875\n"
     ]
    },
    {
     "name": "stdout",
     "output_type": "stream",
     "text": [
      "step = 15000: Average Return = 200.0\n"
     ]
    },
    {
     "name": "stdout",
     "output_type": "stream",
     "text": [
      "step = 15200: loss = 1862.9071044921875\n"
     ]
    },
    {
     "name": "stdout",
     "output_type": "stream",
     "text": [
      "step = 15400: loss = 2662.84130859375\n"
     ]
    },
    {
     "name": "stdout",
     "output_type": "stream",
     "text": [
      "step = 15600: loss = 1979.45751953125\n"
     ]
    },
    {
     "name": "stdout",
     "output_type": "stream",
     "text": [
      "step = 15800: loss = 1587.282470703125\n"
     ]
    },
    {
     "name": "stdout",
     "output_type": "stream",
     "text": [
      "step = 16000: loss = 1525.9228515625\n"
     ]
    },
    {
     "name": "stdout",
     "output_type": "stream",
     "text": [
      "step = 16000: Average Return = 200.0\n"
     ]
    },
    {
     "name": "stdout",
     "output_type": "stream",
     "text": [
      "step = 16200: loss = 2691.458984375\n"
     ]
    },
    {
     "name": "stdout",
     "output_type": "stream",
     "text": [
      "step = 16400: loss = 2518.35498046875\n"
     ]
    },
    {
     "name": "stdout",
     "output_type": "stream",
     "text": [
      "step = 16600: loss = 1249.5714111328125\n"
     ]
    },
    {
     "name": "stdout",
     "output_type": "stream",
     "text": [
      "step = 16800: loss = 2963.856201171875\n"
     ]
    },
    {
     "name": "stdout",
     "output_type": "stream",
     "text": [
      "step = 17000: loss = 34854.953125\n"
     ]
    },
    {
     "name": "stdout",
     "output_type": "stream",
     "text": [
      "step = 17000: Average Return = 200.0\n"
     ]
    },
    {
     "name": "stdout",
     "output_type": "stream",
     "text": [
      "step = 17200: loss = 2331.647705078125\n"
     ]
    },
    {
     "name": "stdout",
     "output_type": "stream",
     "text": [
      "step = 17400: loss = 2323.826416015625\n"
     ]
    },
    {
     "name": "stdout",
     "output_type": "stream",
     "text": [
      "step = 17600: loss = 1204.5135498046875\n"
     ]
    },
    {
     "name": "stdout",
     "output_type": "stream",
     "text": [
      "step = 17800: loss = 1231.0120849609375\n"
     ]
    },
    {
     "name": "stdout",
     "output_type": "stream",
     "text": [
      "step = 18000: loss = 1043.2158203125\n"
     ]
    },
    {
     "name": "stdout",
     "output_type": "stream",
     "text": [
      "step = 18000: Average Return = 200.0\n"
     ]
    },
    {
     "name": "stdout",
     "output_type": "stream",
     "text": [
      "step = 18200: loss = 1230.510986328125\n"
     ]
    },
    {
     "name": "stdout",
     "output_type": "stream",
     "text": [
      "step = 18400: loss = 2358.878662109375\n"
     ]
    },
    {
     "name": "stdout",
     "output_type": "stream",
     "text": [
      "step = 18600: loss = 2478.6357421875\n"
     ]
    },
    {
     "name": "stdout",
     "output_type": "stream",
     "text": [
      "step = 18800: loss = 1678.6993408203125\n"
     ]
    },
    {
     "name": "stdout",
     "output_type": "stream",
     "text": [
      "step = 19000: loss = 1394.844482421875\n"
     ]
    },
    {
     "name": "stdout",
     "output_type": "stream",
     "text": [
      "step = 19000: Average Return = 200.0\n"
     ]
    },
    {
     "name": "stdout",
     "output_type": "stream",
     "text": [
      "step = 19200: loss = 1664.773193359375\n"
     ]
    },
    {
     "name": "stdout",
     "output_type": "stream",
     "text": [
      "step = 19400: loss = 113381.0390625\n"
     ]
    },
    {
     "name": "stdout",
     "output_type": "stream",
     "text": [
      "step = 19600: loss = 974.6541748046875\n"
     ]
    },
    {
     "name": "stdout",
     "output_type": "stream",
     "text": [
      "step = 19800: loss = 57491.53515625\n"
     ]
    },
    {
     "name": "stdout",
     "output_type": "stream",
     "text": [
      "step = 20000: loss = 2005.0599365234375\n"
     ]
    },
    {
     "name": "stdout",
     "output_type": "stream",
     "text": [
      "step = 20000: Average Return = 200.0\n"
     ]
    }
   ],
   "source": [
    "#@test {\"skip\": true}\n",
    "try:\n",
    "  %%time\n",
    "except:\n",
    "  pass\n",
    "\n",
    "# (Optional) Optimize by wrapping some of the code in a graph using TF function.\n",
    "agent.train = common.function(agent.train)\n",
    "\n",
    "# Reset the train step.\n",
    "agent.train_step_counter.assign(0)\n",
    "\n",
    "# Evaluate the agent's policy once before training.\n",
    "avg_return = compute_avg_return(eval_env, agent.policy, num_eval_episodes)\n",
    "returns = [avg_return]\n",
    "\n",
    "# Reset the environment.\n",
    "time_step = train_py_env.reset()\n",
    "\n",
    "# Create a driver to collect experience.\n",
    "collect_driver = py_driver.PyDriver(\n",
    "    env,\n",
    "    py_tf_eager_policy.PyTFEagerPolicy(\n",
    "      agent.collect_policy, use_tf_function=True),\n",
    "    [rb_observer],\n",
    "    max_steps=collect_steps_per_iteration)\n",
    "\n",
    "for _ in range(num_iterations):\n",
    "\n",
    "  # Collect a few steps and save to the replay buffer.\n",
    "  time_step, _ = collect_driver.run(time_step)\n",
    "\n",
    "  # Sample a batch of data from the buffer and update the agent's network.\n",
    "  experience, unused_info = next(iterator)\n",
    "  train_loss = agent.train(experience).loss\n",
    "\n",
    "  step = agent.train_step_counter.numpy()\n",
    "\n",
    "  if step % log_interval == 0:\n",
    "    print('step = {0}: loss = {1}'.format(step, train_loss))\n",
    "\n",
    "  if step % eval_interval == 0:\n",
    "    avg_return = compute_avg_return(eval_env, agent.policy, num_eval_episodes)\n",
    "    print('step = {0}: Average Return = {1}'.format(step, avg_return))\n",
    "    returns.append(avg_return)"
   ]
  },
  {
   "cell_type": "markdown",
   "metadata": {
    "id": "68jNcA_TiJDq"
   },
   "source": [
    "## Visualization\n"
   ]
  },
  {
   "cell_type": "markdown",
   "metadata": {
    "id": "aO-LWCdbbOIC"
   },
   "source": [
    "### Plots\n",
    "\n",
    "Use `matplotlib.pyplot` to chart how the policy improved during training.\n",
    "\n",
    "One iteration of `Cartpole-v0` consists of 200 time steps. The environment gives a reward of `+1` for each step the pole stays up, so the maximum return for one episode is 200. The charts shows the return increasing towards that maximum each time it is evaluated during training. (It may be a little unstable and not increase monotonically each time.)"
   ]
  },
  {
   "cell_type": "code",
   "execution_count": 33,
   "metadata": {
    "execution": {
     "iopub.execute_input": "2022-04-20T12:33:49.957320Z",
     "iopub.status.busy": "2022-04-20T12:33:49.956791Z",
     "iopub.status.idle": "2022-04-20T12:33:50.134990Z",
     "shell.execute_reply": "2022-04-20T12:33:50.134267Z"
    },
    "id": "NxtL1mbOYCVO"
   },
   "outputs": [
    {
     "data": {
      "text/plain": [
       "(15.410000801086426, 250.0)"
      ]
     },
     "execution_count": 33,
     "metadata": {},
     "output_type": "execute_result"
    },
    {
     "data": {
      "image/png": "[encoded data removed]",
      "text/plain": [
       "<Figure size 432x288 with 1 Axes>"
      ]
     },
     "metadata": {
      "needs_background": "light"
     },
     "output_type": "display_data"
    }
   ],
   "source": [
    "#@test {\"skip\": true}\n",
    "\n",
    "iterations = range(0, num_iterations + 1, eval_interval)\n",
    "plt.plot(iterations, returns)\n",
    "plt.ylabel('Average Return')\n",
    "plt.xlabel('Iterations')\n",
    "plt.ylim(top=250)"
   ]
  },
  {
   "cell_type": "markdown",
   "metadata": {
    "id": "M7-XpPP99Cy7"
   },
   "source": [
    "### Videos"
   ]
  },
  {
   "cell_type": "markdown",
   "metadata": {
    "id": "9pGfGxSH32gn"
   },
   "source": [
    "Charts are nice. But more exciting is seeing an agent actually performing a task in an environment. \n",
    "\n",
    "First, create a function to embed videos in the notebook."
   ]
  },
  {
   "cell_type": "code",
   "execution_count": 34,
   "metadata": {
    "execution": {
     "iopub.execute_input": "2022-04-20T12:33:50.138916Z",
     "iopub.status.busy": "2022-04-20T12:33:50.138414Z",
     "iopub.status.idle": "2022-04-20T12:33:50.143157Z",
     "shell.execute_reply": "2022-04-20T12:33:50.142578Z"
    },
    "id": "ULaGr8pvOKbl"
   },
   "outputs": [],
   "source": [
    "def embed_mp4(filename):\n",
    "  \"\"\"Embeds an mp4 file in the notebook.\"\"\"\n",
    "  video = open(filename,'rb').read()\n",
    "  b64 = base64.b64encode(video)\n",
    "  tag = '''\n",
    "  <video width=\"640\" height=\"480\" controls>\n",
    "    <source src=\"data:video/mp4;base64,{0}\" type=\"video/mp4\">\n",
    "  Your browser does not support the video tag.\n",
    "  </video>'''.format(b64.decode())\n",
    "\n",
    "  return IPython.display.HTML(tag)"
   ]
  },
  {
   "cell_type": "markdown",
   "metadata": {
    "id": "9c_PH-pX4Pr5"
   },
   "source": [
    "Now iterate through a few episodes of the Cartpole game with the agent. The underlying Python environment (the one \"inside\" the TensorFlow environment wrapper) provides a `render()` method, which outputs an image of the environment state. These can be collected into a video."
   ]
  },
  {
   "cell_type": "code",
   "execution_count": 35,
   "metadata": {
    "execution": {
     "iopub.execute_input": "2022-04-20T12:33:50.146440Z",
     "iopub.status.busy": "2022-04-20T12:33:50.145919Z",
     "iopub.status.idle": "2022-04-20T12:33:59.565669Z",
     "shell.execute_reply": "2022-04-20T12:33:59.564802Z"
    },
    "id": "owOVWB158NlF"
   },
   "outputs": [
    {
     "name": "stderr",
     "output_type": "stream",
     "text": [
      "WARNING:root:IMAGEIO FFMPEG_WRITER WARNING: input image is not divisible by macro_block_size=16, resizing from (400, 600) to (400, 608) to ensure video compatibility with most codecs and players. To prevent resizing, make your input image divisible by the macro_block_size or set the macro_block_size to None (risking incompatibility). You may also see a FFMPEG warning concerning speedloss due to data not being aligned.\n"
     ]
    },
    {
     "name": "stderr",
     "output_type": "stream",
     "text": [
      "/tmpfs/src/tf_docs_env/lib/python3.7/site-packages/imageio/plugins/ffmpeg.py:727: DeprecationWarning: tostring() is deprecated. Use tobytes() instead.\n",
      "  self._proc.stdin.write(im.tostring())\n",
      "[swscaler @ 0x5635885af3c0] Warning: data is not aligned! This can lead to a speed loss\n"
     ]
    },
    {
     "data": {
      "text/html": [
       "\n",
       "  <video width=\"640\" height=\"480\" controls>\n",
       "    <source src=\"data:video/mp4;base64,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\" type=\"video/mp4\">\n",
       "  Your browser does not support the video tag.\n",
       "  </video>"
      ],
      "text/plain": [
       "<IPython.core.display.HTML object>"
      ]
     },
     "execution_count": 35,
     "metadata": {},
     "output_type": "execute_result"
    }
   ],
   "source": [
    "def create_policy_eval_video(policy, filename, num_episodes=5, fps=30):\n",
    "  filename = filename + \".mp4\"\n",
    "  with imageio.get_writer(filename, fps=fps) as video:\n",
    "    for _ in range(num_episodes):\n",
    "      time_step = eval_env.reset()\n",
    "      video.append_data(eval_py_env.render())\n",
    "      while not time_step.is_last():\n",
    "        action_step = policy.action(time_step)\n",
    "        time_step = eval_env.step(action_step.action)\n",
    "        video.append_data(eval_py_env.render())\n",
    "  return embed_mp4(filename)\n",
    "\n",
    "create_policy_eval_video(agent.policy, \"trained-agent\")"
   ]
  },
  {
   "cell_type": "markdown",
   "metadata": {
    "id": "povaAOcZygLw"
   },
   "source": [
    "For fun, compare the trained agent (above) to an agent moving randomly. (It does not do as well.)"
   ]
  },
  {
   "cell_type": "code",
   "execution_count": 36,
   "metadata": {
    "execution": {
     "iopub.execute_input": "2022-04-20T12:33:59.569706Z",
     "iopub.status.busy": "2022-04-20T12:33:59.569450Z",
     "iopub.status.idle": "2022-04-20T12:34:00.468688Z",
     "shell.execute_reply": "2022-04-20T12:34:00.467857Z"
    },
    "id": "pJZIdC37yNH4"
   },
   "outputs": [
    {
     "name": "stderr",
     "output_type": "stream",
     "text": [
      "WARNING:root:IMAGEIO FFMPEG_WRITER WARNING: input image is not divisible by macro_block_size=16, resizing from (400, 600) to (400, 608) to ensure video compatibility with most codecs and players. To prevent resizing, make your input image divisible by the macro_block_size or set the macro_block_size to None (risking incompatibility). You may also see a FFMPEG warning concerning speedloss due to data not being aligned.\n"
     ]
    },
    {
     "name": "stderr",
     "output_type": "stream",
     "text": [
      "/tmpfs/src/tf_docs_env/lib/python3.7/site-packages/imageio/plugins/ffmpeg.py:727: DeprecationWarning: tostring() is deprecated. Use tobytes() instead.\n",
      "  self._proc.stdin.write(im.tostring())\n",
      "[swscaler @ 0x55a8384d53c0] Warning: data is not aligned! This can lead to a speed loss\n"
     ]
    },
    {
     "data": {
      "text/html": [
       "\n",
       "  <video width=\"640\" height=\"480\" controls>\n",
       "    <source src=\"data:video/mp4;base64,AAAAIGZ0eXBpc29tAAACAGlzb21pc28yYXZjMW1wNDEAAAAIZnJlZQAAK/JtZGF0AAACrwYF//+r3EXpvebZSLeWLNgg2SPu73gyNjQgLSBjb3JlIDE1MiByMjg1NCBlOWE1OTAzIC0gSC4yNjQvTVBFRy00IEFWQyBjb2RlYyAtIENvcHlsZWZ0IDIwMDMtMjAxNyAtIGh0dHA6Ly93d3cudmlkZW9sYW4ub3JnL3gyNjQuaHRtbCAtIG9wdGlvbnM6IGNhYmFjPTEgcmVmPTMgZGVibG9jaz0xOjA6MCBhbmFseXNlPTB4MzoweDExMyBtZT1oZXggc3VibWU9NyBwc3k9MSBwc3lfcmQ9MS4wMDowLjAwIG1peGVkX3JlZj0xIG1lX3JhbmdlPTE2IGNocm9tYV9tZT0xIHRyZWxsaXM9MSA4eDhkY3Q9MSBjcW09MCBkZWFkem9uZT0yMSwxMSBmYXN0X3Bza2lwPTEgY2hyb21hX3FwX29mZnNldD0tMiB0aHJlYWRzPTEyIGxvb2thaGVhZF90aHJlYWRzPTIgc2xpY2VkX3RocmVhZHM9MCBucj0wIGRlY2ltYXRlPTEgaW50ZXJsYWNlZD0wIGJsdXJheV9jb21wYXQ9MCBjb25zdHJhaW5lZF9pbnRyYT0wIGJmcmFtZXM9MyBiX3B5cmFtaWQ9MiBiX2FkYXB0PTEgYl9iaWFzPTAgZGlyZWN0PTEgd2VpZ2h0Yj0xIG9wZW5fZ29wPTAgd2VpZ2h0cD0yIGtleWludD0yNTAga2V5aW50X21pbj0yNSBzY2VuZWN1dD00MCBpbnRyYV9yZWZyZXNoPTAgcmNfbG9va2FoZWFkPTQwIHJjPWNyZiBtYnRyZWU9MSBjcmY9MjUuMCBxY29tcD0wLjYwIHFwbWluPTAgcXBtYXg9NjkgcXBzdGVwPTQgaXBfcmF0aW89MS40MCBhcT0xOjEuMDAAgAAAAflliIQAK//+9Sf4FNQS/Evha2Ht1LdJMNFwsS2z0AALh9gAAAMABos5cdzoV+13UAAAEMADgB9BlB5iJirFQJXhaAyvwBhWy8cB/HUHLCVexNRYkCvpdwuYl7zTwCqivEpyWn+lusNiMnemwLh1rNcPm+ySe3FE8bgvA+h3bclPSy3a938c3iQhoKfhYxhTN+5GUax3fUbtFjZ9RJ2d8O5DvjUaXYA/UU3wAj2AAEa69oE7RMXLdSkszqD3ktfveWX2NhP1Kv3oAA62glhdX9X0B+YwICAAUQW0nH5eQdeYpO0JwFcAvKcar0/zYBz2auiTC1+3d481kMlaMH7r8uR11FGjioDg/MdPir2pTheiecD8HzJJhBpAy+2sFA6egQWpSvuVs5y6zG8l1sLBYgD3XU71pu1AvQkEBoWUGyH3OpsgY9+nqOeur/c/i18mvjyJJRUPXis0aYq+1OEpSzTZvol9w47fFv4Ym3njWWKuPe/C+e7iBhCLuyHYnBeDRYsMKuf0rvdSvrPp/B2necp0HWtO/MYOY6drDJ8+kVZ59R5A+RORYHAUKvfZ7bbhsdRrQAAAAwH0TdEMExBUs3CHjAHWWhveCws0i/uMqOm0nyv+6pro+fXLX/H78JDWF1e1qlkdtHcV7kMcN2SBixaYAAADAAADAGBBAAAAh0GaJGxDP/44QAABDRNjGi1DlxbqSYyVBJfosAGbECQARGA77YGi4LkYZraQPjckeLRmfijPkts1GpKZHtrZyefDQIsT/+SqTDJK3/WDpcB1Aj+3mBvOwmq7/itEJoifIVVcpvw6SVvSl4v2hBoNntB1hfgDoDxFL0YnJRcX6OQCyZdKV/qNGgAAACtBnkJ4hX8AABazR7cNuRuSC1MxzIiYsrrnRyFTTbxjfz36Y87Qbl7KJDlhAAAAIgGeYXRCfwAAI8MXaKmzlOojz4khegdP4jV4HwkPxGyuIUkAAAAmAZ5jakJ/AAAjvwQnEsxE1uCxexn3cHPxFd2cbX20k4q2Zpk5toEAAACJQZpoSahBaJlMCF///fEAAAMCn8hpAynpUV4gF41FNrIdNqpcOyx8+wmn6w8fNeaH3oV+O+63bN8wqwQyy43Ve7t0G6NVSzjo4sh4azSAeLQKk5vhu/m8b1Na+uB5rCi0eK3nOxVVG31QM76zvM6qj0vGj6dWXRX6eadtwQXftscPoQv3D/VN10UAAAArQZ6GRREsK/8AABa8Q823FcnZDw2II7t1cV4aeVVOT5Q0SDxrdgIVrUrNtQAAACABnqV0Qn8AAAT70KmW0GttR8L9VU4TU5ogrHqb/plkwQAAACsBnqdqQn8AACOxzAM6lyqSCJMfwfIDSkrCVO40/Cy2vib6oGKjXjBQtdsmAAABG0GarEmoQWyZTAhX//3hAAAEG4agLqeDLjIg3V5PeNsEYlEXq6zGyqTDjIKPzO0ZlYcf56bYSIpiYand0n2X8w6xVtV+Ol8Tk1nU5c+X9DxNTSb3+Qp88kkfq5woH2rxCboF6e0Qq4a6LFonwKKJwpXOn+/VN23/1JERaexeQZKzp0+H1TTjA4mgtSPVIA0TkzRijqg6XPcEo5VhXuqxFZ0D1vbpb+NNHcO2f1xBjIKUVRQIjZEYZd3rRR630h/AGrdXdt2RWIB6cPjGirIEBHlKx25yt3kKjt3/S+8zKkJ/NfVrnGd5/ECXGCy4FbklPfLgouJSp9DrUkhpWaJQDREZAWC1APe43N7fkBWD7tqQzBEhvvgzJglCjhMAAABVQZ7KRRUsK/8AABatL3/YQm4OMc+r5w1qAIduysi3U3wzRB+e26SKfieNf5Tolbf9gNNpE0fBup/ApQwPDbHdIe4ULZdTKm9XdMl5mHx6Temgk4uAQQAAADkBnul0Qn8AACPAuN/AZQS+B/HHAhftwI4ii/8ULb36jeoHslMc/rV9aRLN2TaIBGn69o9mZYWF7MAAAABNAZ7rakJ/AAAjscwN2PoTk26+L4FVqHR97wwzBKGECKVE+4/A7/S3HGo8n9D0cSIRAB/NMptSAFyo1Pun8yZnZw56p6i9ZCqhQNeErFQAAACqQZrwSahBbJlMCF///fEAAAMCo+w68t1jDWwtoXtEtrssHRFp1o9lB0aIDSCSzSBpoPxyPEC2OCnbAHw9UAgdJzeZC0yMX3NNv7Wp18aaC42rK8AFNXxc+ey474QX1oYIZNodjWvTYWgk5XKOIhj8rAtDawvhl4lzacopBRj/IbSc0Lq9Sf1nBBzVL63AjMRRoAhrmcDlLO88PqO+QtVcj434Q9jHur0WwdEAAACLQZ8ORRUsK/8AABa1F9IqjSIX71yXEkDcVwKZR6kWJy+XuAG/cACCDYw3Yz7VlXksnZNpD8VMorBJGtzVEnwqEHDnhqcN4/Sx0xc1SFeaMVuWsWzMA/vakVoc1ZkBAziy4kjFV///B5vjARSsranWh+frVouKi8MI3Gn2eEjWtRmHfDQXKmdbcjF3lwAAAEoBny10Qn8AACOsFSk86RLkr+lMuaia6kQg4lQ+HHFsFPuVcXCpYcPqc11ryqZ+I2sxJRFy8oATOSHVbKgUDMoJtbr5kRA0+XBvwQAAAF8Bny9qQn8AACK9N04NszWYj2jQy/IJwHr6oQCmNZqDgZRgdE6nuyoFiwPyr8R24AFpPW+XCHhBlNlY0MCBe9+Z8lXjIy2azJGoliU9vttse6PebthgpdVNYaRBdVg7MAAAAHVBmzRJqEFsmUwIV//94QAAAwGHYwNnS+U/LEEJpnrCQH45m7pb2QBoW+Mo1Bb4OMPlcsvDkBpKTXWfuE0PILoiWvpBGQB9vM5E979HdNWuMfVQ5G6v5vKj1sxXzpxVCJLSpG37ZpnDaRvApKa6tLoI0rDM72AAAAAlQZ9SRRUsK/8AAAMDJTGr6i9fNgsH9lzMLophFVcZwZfgCq/+fQAAABMBn3F0Qn8AAAMAuntdgolWTjLaAAAAIAGfc2pCfwAADTSfmSLisaiA9Sw70+vfc+AD4C1kmxvQAAAA1UGbeEmoQWyZTAhX//3hAAADA/U/Q7V4Cf3x7WQxJ9jgeUANErpp1OcTEn44a08T8nwmIRqk9KpfjDsi1qKy77/Bu9osTLgdSKCCp5D2ynA4v48GRmohVOag7GDSIlo7pozTjbMaEdYgGOSPgDOst9s26/Mdjoo+Kg1TjnLWbgbhjTPnk6f++RrYGrZG+ROaWTxpf7oTjCi7namg4K98a6z6szNeff4u91+blhwOSbwbUaspIGlF9GUR6dAtbQiz4wo0cr7gqKZPhaxcKqBd59MQE3M4gQAAAGJBn5ZFFSwr/wAAFiLHDqZpcx8NfMvYGzflTmoDQpJxQk0jouT7vUebiXnotyPJc9d5VoX00Qu7kYwAcFScMIFd7Uq3hS5qJ24/4rZe7AObF2kE+UFFrPhu4jySQPrXsAdHwAAAADkBn7V0Qn8AACKSKu2EYdwowiLhxgZFJw0v9gFPP4bq0P+kTpHvtgTtmxKnToYABb06AkVDIGF0vBkAAABLAZ+3akJ/AAAiPFrf/1be3rXT3mze5fPBATKiG/YcNI38GynPfPl3mbyVEfEyEKGOEQ7iWA4bmqNIFwdb04wAPlPeneV35pHMgrsxAAAAtkGbvEmoQWyZTAhX//3hAAAEE1T1TzSa+VmqA5JCB32d2CW9uk3GQB13Ka319o3zr2Btekrn63xpsdOkL5zncH9nzMiJGOuyKkeihFgqY2wNpvbAWGBZCQBQAinPmez/kcj4fG80ODYV5tJNELTFc1OacH/+7pa6Qoy4Mow4HChOMPwH/8zQ8CYvxwBPkbUGR+ZBXuFAD3+wQFgibPgmiyq9Uew8BvSHjcl/lCFPWjtAM5H+6IXAAAAAgEGf2kUVLCv/AAAWvELC1vRNCoZIz/BLbc3uSB4lxdX5UgBDTf73N8eZMtoD8BeACMiqprXKpMbkFQAu8wLttih5WfEs6oJbByl8yqKcCoynjIXbeF/cF5GNAmKNV1n1e+AwOFK9zRAqLQcoF8fJqK93ltAW2z+8vrABVm1mCzKBAAAAWQGf+XRCfwAAIsAIS7OqQArO912gDYE83ooJtyQ9RpnzU/UaRwu/Ajbk7apMCdzWZHlrCLSSjdWmpWg7jGifFONkp3W9EMvhBNhtjTaetCC3xh2u84mvnr2YAAAAIAGf+2pCfwAAI7HK7owv7Wwzt9Hz3wQTlcjbxpO7nNmBAAAAdUGb/0moQWyZTAhX//3hAAAEE3hdmPKCbv+zn9R/S4Abb1TknruYis/IF/NI5/QF98sa9ca3S2zNRhxoEBSR/CtRw6G6PKvOVZ5BSMBQE6v0toWUTAbc/5bdLBI8o3Y6FAarVzCZUtE9/GS4mw1JPY/Z5lrDXwAAADVBnh1FFSwr/wAAFrxDzc0TyyHYAAcdYEhWuTBRBxjxSZMPl1nuA+ihlGee8WUHTr5dTnOGUAAAABwBnj5qQn8AACO/BCcSyWmauFZW0uCzVGBZ2ZoIAAABDUGaI0moQWyZTAhX//3hAAAEG6JrVuhoiCDgCg2IWt5iLTJFL26DBdunZe8qooPkxncupC041byCUmnuX8LMI7y0dEdlz6pTolaRskjewWKjkbw3lsvq3RYLF6gBpK+zD7LjkpENSbTG8QVyMBoBnKWfQfpFJRHU0QCfUlHxPXLgFXbbI2OWZSE+mZr8OpGSKtuTmQycoDzqv4DnEiHeaSwS28X9XqiLBEXe2ildoPftKwMEHZwzlpCcMj3mFaAa+iHZoSb9GeNDtddOXzStSBQxiOeaNZdohYD9zjMjj1ghIu2F2scMT8HIV6rpX6XP2Akcpo7QjNC0FO/K4CK6Xx+yy2HES9fRS4YyOCYpAAAAXEGeQUUVLCv/AAAWu5NnTU3zdJmuOUqp0clwwca8OIcqfe5Q9OJov+Glak9Pe2DtmTLrtD3MSt5n9kAAW0T0jzdRPuGhBjvJAfNiXdQutvNuLO686cYGRbfAf8+AAAAAQQGeYHRCfwAAI6v4XDEEzVbyltKBPpApPKV3vSFb+E6Ipz89BHJ5wf0um7kVtDJ3rtufAowh+ciyoR4CJ12pCkW1AAAASAGeYmpCfwAAI7HnXZSxDe+xRSIAfDjt2LQ47FHiVwhqwatQZiQ+BKtOz7xJAMeXydU+bVaHGG28nAAIZB/TcRN+L6sSeCKIwAAAANJBmmdJqEFsmUwIX//98QAAAwKOpw4wMzx/QDwjGF03Vkb/kCpECc6ExKj3UvZpA7IOv1qhLnSW1F9qV96nNDHh4CGqsnOY8ReEJNKEBg8x3RtiB29XdBAqGU7rSwr2lQlodF3k9nSFeACn+HIAbVr62Co+LIE9gWCxzBg6j19DR+2gFW7T4efARsChClne1XjtCJgkQlUSqa2DosBwOafCRO5Myix7zOqEWhelyAwN+yoSmeDj1tQjZmNVpm76EGA/joNHYGAVSJ78Ne6FczJ524EAAABhQZ6FRRUsK/8AABYrYqkIlu6EXhYPW0ym9F2n3k7mGFwg/TslS28hwAQaGpb4UoC1BLWVYtPyXHUnqF2uNWOQiW2ACc2giRN2wcnAeZbF0ypUfotiKKG2REm8B2vYS8DgEQAAAEQBnqR0Qn8AACI/LuFtuwNVPZYR+K7DUBI1f9O13+GSpexrtGvmz/ISgucao8bNlCjFzv7UZ33ygLD51YGiZmutWVAkwQAAAEYBnqZqQn8AACK9lGjJFs+rGjed1K5aN+lkawoPhFkGNw6wMbYCTTWA6dKRXbKD2JivByivVcm2h2GfQemsgtc8P5SZClMFAAABNEGaq0moQWyZTAhf//3xAAADAo+zUeusnwBauUfzgYCrQUcw0HzlqkhUmZw/vh/tKXq7/pu0Mb4yQ2K7XJIkKI1+nSpQrP/CinL1ZmK2bNWif6zfGmjpnx7u6cci7PmNdu/pI7ubvvMigBTW1rm0LQC3Ev9FDoq67vPsBOOI/3I+BzZQl+V89g44bXPT9KJLoCTU6w0iUBFyYrpKRJyyrZXtIjmAhbNF4+eJ0wXF3RTu+PgYSF+Vucl8dxECywdKs8xItDE8ctkwJ7fVwfWuU0nRABr7Vi4sbaU5MwEEGaU24ur4+AHpRsFqtdkN4iodTe879kbfJJizb86SLmoW+drGluUTSxjFNiVQGJeklIjGwOPdf51J1ey8rLdk4pVhzry5yAz4DVGpR7zCmdWLEmCoQaagAAAAPkGeyUUVLCv/AAAWJStHaxhh1ZcjA+O0mO3V5JK2b14lnyXL3w0cI6cRqXyjl7CWUcNS538upkpa065Bi944AAAAIAGe6HRCfwAAIqv4azDp32vdqv6QmNaW1++xR3mTn78jAAAAHwGe6mpCfwAABR8uZPyFKfkG1bhDx69lX0mGuF5R22YAAAB0QZrvSahBbJlMCF///fEAAAMCjQbJvgGr44JzSUG7AHBnnwZwyohl2VNEunylDR11lteA5rf/1rMn0Fs16VRsAjWW92se+dOU0tQoPbasyo7pabxKdarbhDxxU6JvhvF/7TIrBK4qciMaGD0lnSUvl7GPB6QAAAAnQZ8NRRUsK/8AABYjK7UH3p2MvQwIHVaizfxTTQcUsGjV/KNWgDAhAAAAGAGfLHRCfwAAIqw+fH7r2FrkL/7tAQ0PmQAAACABny5qQn8AACKxzAwutKawxr6jsIh10zBrQWqaHIkBjQAAAHBBmzNJqEFsmUwIX//98QAAAwKM9+Jc/W9l1EMddrsdgYHkJ5bXzec3ncvRkAsk1z9PdixDCLyYQgK02YAHGoD1YW8JAt7Gnb6I5rXjvBbahP+2DDhx9+SXyo+v4FpmjHPHPjMGaSKxkH9TtpziffmAAAAARkGfUUUVLCv/AAAWBhtk4hYFcNJqkdHqtl1+nlOdfxIGsNHnNdMiw0rF9yeaRwaNU3+4N60hI0XgAG/owTvsSt1dVpM2OWAAAAAkAZ9wdEJ/AAAiwxdpi5aUk0KRG/hz7ZoFyoGVb9l44k9YSm5VAAAALAGfcmpCfwAAIr8EJ2US7JZeIr+jWyZUjMUzyI7+cc50c1lwXsX8OWDHQAOmAAAAq0Gbd0moQWyZTAhX//3hAAADA/fcnSiAz2Bus0f2Lrgq0iPt+zgw9i/MvBNVQJSFqqOUEA69gPFfbd/kNk6oTsFWp1vi+aNA43PgBGBz71CVfxMlVniL+TpdOc35aGi3SdZVNUyVfC38HgK1uYN32u4ZzyuBCRdtLhk123Z760I9po0rKNJv0l0ahf+VwtjqEpORsBneCb5IMaTUhHJdQPVkapjGXfsGkpIhwAAAADFBn5VFFSwr/wAAFZxQuDq1Lz9Csuxbo+rqRntaEMtdatxyKgEIi/kXyyYODcoKJjehAAAALQGftHRCfwAABNj9/PqERadogQJC4nGMSI5QCyIZ0/iwT40glveCMPeMEiziwAAAADMBn7ZqQn8AACLHv40XPe4cfrtohYHiizYvNMuzIlMsT4mLSAYZchSZZDQ/gePp9uAP9xcAAADSQZu7SahBbJlMCFf//eEAAAMBiEXhYdED6gnT/AX3AItkWvN+8E8NqwGnL5KyhwsOKtSad/cGWpu4Niu1JvEVfi+9ZrLp0f2qJ7YHas653hS6rOQDLNx0JhFpn5phFSQcVpmNAvkGToYVEIyhfd3oPTELp6iV6BU5d371RVqeP/2dqK/G8b4vyz6GrpDtmcA05r2Quc0sIm+YrcB7AAAx6i5GmbhgVyyrwwSye6sVLTQwRYSyAyR52SEF9+qwYkYhVcgh8Og4f7g26frGPKjJY/qBAAAAQUGf2UUVLCv/AAAIJzWU/hryYQAmrWZAP8+5g76hOLg8hbQWX3fDE48JyizPHx21yObL7vJrKkfiMFxsv3JR3FNAAAAAOQGf+HRCfwAABPoVf8g04wr+K8K5sq8AVDN3QwM5wI1bRNLlx4Adi2rhQBhvr1krJqNZbA/+bkjlgQAAACoBn/pqQn8AAAMAs2rJBERjxtf2Jf4z4O14wxmZ5aNvHa/sRIPwphYIOzYAAACeQZv/SahBbJlMCFf//eEAAAMD9Vq9+EpHkAnASzu9mE/kv1YJQH45Bwx10GSfhvfoCgCEDw8FpiDJZQMaDC15a2YMYNn6UIEKPOMm7m3lzdX/+e7+Nsswx/fBJTh9WQzjAipBu/xnGEsq2ScSJ2jgxA/Sf2qaGF6J+OIq/pjuP/GKM3FThj1Yp2oToD2+Gn11DUMIxIQ8UQnK1/LBFfEAAAA6QZ4dRRUsK/8AABYlKzl2YxRnDGQdjlp63IJHjAyuR2lqoqrHfMJSJSkCHtMloLFnqEpXwy3RgSV1IQAAACYBnjx0Qn8AACI9z01Kh6bKodd9hlEE8xqv4WFvRNMZIQnripn6ggAAACsBnj5qQn8AAAzlg262Y4KWOcit1O5F2uN1Ptzcm7TGc/9DW/yZgKNVUjwzAAAA7EGaI0moQWyZTAhX//3hAAADA/Yho2tYoPADlAwid49C6gUAyvKhc51yVVVWYNbO6Kd3bJISKtoRYA/iXqtV6Tgcf4idJehfMeAAkynY3yNHIHR4IK84kubHgu7NfdDmDNkyItnu1gU9Rqf9DOh9pPRmxdPoGrT+XVtC9MHCRWcxxvFjvjcYUZiXPPNJotHLvebxQNyS9a2vsoJXnmTluK4JFchMgD/4Af4dV81A5hNhhLL70wNPQ2uTxHOB7ldaDklx+l7KayAwO6FyViEGYnJjKwr6dswXWTny8XNumpKw58Nx9JHOvr6rlVYFAAAAYEGeQUUVLCv/AAAWHke4uUqdI8LwwhyVuqIMe38orprEsnCeitNVtKRkxA5sA0KhIYc67y4JjYcgBe2YqC+R9UIRpIQPZAkZ/9hQATqDE0rQTBuU4MMaKxgmgaO0jZ86oAAAAEcBnmB0Qn8AACLDPpXrLdPkADkhQpKiPfH2mNs77LVnodsjAAr7vOx1BRetEVXKyeCJoK7g9zpkd1i7lJYkPAQyAYs6a4TNUwAAAEEBnmJqQn8AAA00nb5/TuVK/k3T1xtDdncw+37meHPlFE5XBuIsEsHK5UJS56/VKcsYf9Ifi5zp6LC1MO36JJDmpAAAAKRBmmdJqEFsmUwIV//94QAAAwP08O/AbDBM/JcDI6ld1mKEXAAsPQNoORvs9g5PbWVJ+KbL2uZxfDyEuJGJntXUc7/wVNywK6bZGn+4uZFP3JwGXIpjK1eQUFMZK6sO893FpNOQ+szgYWcYCxxvMM72Vzzd7zX0+Jpefpj4RqJcfHWwlzlYzI4besrpoUcVSXomhK0EQG9LPZW+meJJKTkUDWgj6QAAAE5BnoVFFSwr/wAAFjCXaSCEjVMSOpRLxyPzsLjEKajSF3lumXCAWlkTcCVVEdU2N5wuGOf8ftR/TugRJilTPAALVmqOq61IsREO2coleTEAAAAsAZ6kdEJ/AAANN8QwoKa0XvMBkVhDQh8tnn1lgsrrUbaikJmGgTqCbK6EEccAAAAxAZ6makJ/AAAit0ChKWaRK5kjTpY1fy8LErCUG3IGjkgJGpeOZGNFaX2x4K/U9Cj7DwAAAJ1BmqlJqEFsmUwUTCv//eEAAAMD9PTAkARxTnMI7W42t331T5+MWbvmArwM6U4NPX05u9wD4/5BerUdZUAAg5PZcVXL2zz2kPZxb17N0bDgmCqPlNH/dR2ZBnfJO5A27E+TB/oEwtmHcTrLYbwHGoMGl9DODVygoAbVztPFKFM20KwxGgSvZZX40KgK4LbaurV65j9r1MP0qlQhNU+AAAAAOQGeyGpCfwAAIqNoh927VP8SgSrzT746PfUd/w7e5U1Zn1hzhx/9uEYX2c1vN7BvfGOIScdFKVOdgAAAAUxBmsxJ4QpSZTAhX/3hAAAEG4agZQZ7AZusa97pBcCxDG5tkSSxL08LkR35hIzcadcOg+OP8vEYJODYx2Jc2WsTsosf3sD6rfYq3EJkw4SE47nQuge/ZzdLDrxkRcp2MBflPp22pY7yzXeY3tQ5M2tecv+r5nY8ccz6qJtRsV6KdJkwriyhDgMAJOpwai0XAYLmV/dZeIhmc2AmNCeD12e64T6FXV+xNQaD03465sKWRvK/z6GLEoLHPLNCXhufk7+bCTQt1LRJxqZPv7oHUptHNZ7XVzO1R5ZjqKULUunjAfLw0eBOywWCZCo7/Cb4DFXEqxRB0bUFQ1aKcZcj8QtMgzfMwhOGmptRtQ8v3HgsNPQ/Uz4vpiSmrEmsHN8XVH7mWfIduALPmoOh8LnUnY/J9CgTNWR/YMQPST0+B1kKuvgN4JBQ9BlBzTGZYQAAAFxBnupFNEwr/wAAFrxCI5Y8Yp5NJmo/JEzqnMVuE8k8G0I1psT4ESx0w8p6Xp94NmCEwW9wBZ1L/L5oDWmrU7GmhCBGO2g+tNymS4AOGkhDeC5robQ0sFQtv7XLgAAAAB8BnwtqQn8AACOxyu59S89mDTolBEE8Hl8eV7DT1ezsAAAAp0GbEEmoQWiZTAhf//3xAAADAqC0RdvH4Bq9wXDoPhlpoyV4ePY6LF9eoMNxzarV6LynhWHC7xofftY/tWNbhNCUXFsW5ody6MdVHxE4Qa377PgsKW4O6g+uOZNpHzTQqwuAQq4A/Utc9vfi7YVkMZC5MzP6UDgWpmZm+9RDHwux1ambXrM3NZyv2kK9pO0jwzFYLZhHrhMnq5yIL+f//maS21TZNth/AAAANkGfLkURLCv/AAAWvEPNy7u0RXJHJyJxI7Gk+3VlflVlLCCe6u1A9WPCLXngeJIuj2Kfu0f+4QAAAB0Bn010Qn8AAA1+ANhFAY9MwAGNFfIBTG+cXMzN6QAAADEBn09qQn8AACO9g0J41hQ5xyS6phQy/NDqxPwf94UgVUuRX0W1FYAwcFqa0Z0ywZdgAAAAQUGbVEmoQWyZTAhX//3hAAAEE3OTYCAu0v3AmrPumXGgRY6w9Em9cxWpZzy8koXBFpYImlQ+ajWAAxYPKDImcCsoAAAAO0GfckUVLCv/AAAWtVizStGofCfWvUF0Y1I9zIYJrYj86neYHSKCxUohcaAFT5wnHQ9reWN/1IXRfhsxAAAAHAGfkXRCfwAAI6w5AKtE98frIx6hDC6bZmWitMAAAAAZAZ+TakJ/AAAFHTAOG5Qa4uSQ1NaBmkebMAAAAEhBm5hJqEFsmUwIV//94QAABBNb0ckxZf4EgvaMDsBVdd7sQKyB85kHyMQCa7uWcZtalYyIUOE7bhGrUAIJTQtJHtPFs4VxhbcAAAA9QZ+2RRUsK/8AABazSIbkkkpd1let2bdeDF7I3QKx62BzyD5dtq7p3quts0kmCFY4PntRoyRZ2PgMll1nTAAAABwBn9V0Qn8AACOsOQWr8fWNE/CpNtV9A7IS1WmBAAAAJQGf12pCfwAAI7ItNkeRcHPZvnRQQKUZA6na2BPuhjXUAymOLMEAAACrQZvcSahBbJlMCFf//eEAAAQz+uSUlHyJlWRwbYQ294Tk0il8yniipSKpih6L3lJDxmMoU1bLjqp6qaVLCbmS1JOrbikF4RyTHfBXahehHTnRF9GOvfmUlk3C1ZZqumRMcOFYymFDrkRB7O+xyKBBHhFtQlqK9ilyazjpCZE98wDx1QMlbZ93zpKJE2Y5WBre9RDeakJvk1JoEawYzzRqrzMCHUWZ7vcE1HrAAAAASUGf+kUVLCv/AAAWtVivnWwjdxEzYbLJn0QXEoXP3vlLTEgBHf9Qys/LsVjmcGeL12sHrW5OJBqkidyVA1f6RnhSXYpa+iQKlMEAAAA6AZ4ZdEJ/AAAjwz6d5kBHKu4cSfMHW5acQOqaGOUDIU+njfE5Z+IgBbV+WGgdC7p1zF+METAzEWMKBAAAADoBnhtqQn8AAA2CQDhwQPym6VGvlxm4IRC3pWrDxSeBFsdnfOK8xMbiJfzFAB8jMyVeseY0KttkInHBAAAAjUGaAEmoQWyZTAhX//3hAAAEM3a29UUzmaPmu8qb4It0lioDu82W1E+Htg0eXA0L3XgdaxJ8/U4F8vdGUT+HSmcBoFr+vhkgxr1Ji/FW4GM5d4ktlLxzN7rV1zWhyOoyhFYP8MznXCbyTvndt+iQZexj4kjwOfISLk/NUytny7mPkAbLlZXyvsbjLchtgQAAAEhBnj5FFSwr/wAAF0UrN2orLDQeTZzYuK+s1JAhMkQOazCdTYG7ajfds0Kky/4AVTgrNSkcnFNbYmInIPGVyPUg/yJwxKbVHuAAAAAzAZ5ddEJ/AAAkwxdmUuKW6gJHCO6cG61Wokia/7KlZ23+7Chk1W4rhj+i4cTYplbyG8XAAAAALAGeX2pCfwAABUMuYlV4ao5XpCoTQ7lmzfX7mAPkMeIzMDO+hXvErFH56hXhAAAAjkGaREmoQWyZTAhX//3hAAAEM0gy3+lMg4ChhdEgQgNLCorqbEyiZ0MgUeiVx9EJ2pTDcRl9D5RNvC4fhYpmCpC/ZUIG1YP3du/qaf7RojzUgv9e9MTUWn2+Z1YhmkVwpY+nu8zyTeIs4TicWDS3GIVEp+epICkfJB29n/gKHv29uVhXjAdjB5vcVZdIlWAAAAApQZ5iRRUsK/8AABdLipRkjWMe4dzpctgSst4zDbqnfWx5/uTg7Q5vWWcAAAAfAZ6BdEJ/AAAkq/hbeBKdaCOUrmydGTt8JjzKW13hnwAAAC8BnoNqQn8AACStW8OJK8laor9VWgBKv5Fwqoj5KrAcH4OoOnAwD///EFa/mbbcWQAAALtBmohJqEFsmUwIT//8hAAAEEtoo4BgE1w9HExkvPj+OOCxvCuorVXzY2A2gwG6rqqcg7XZlGU6ZP1lqg1SHrA6c+Oms5KXc0EBRQmzX8KxZRyoqqLbyHJjgwtkqT1934rjEhYQffc0jqJSWDfiSriaLNtj5WFt+t/7aQRCgOrzDU3paaBABvvMHbor2Ld4LZ3Tz2qwWg2oxGTCScJkbDySDsD7ldnjjyep7TBtS2/T8k3cqIqEflKlAF+BAAAAUEGepkUVLCv/AAAXS1tupuZzHAHCKMaOVip6TIDE9TDF3DcyAN1KW9zC7p/8j8PVth96uJmaK0GvCIAE6n5aalbV961TCPMdnGJ6xMIH1uinAAAANQGexXRCfwAAJMCZ3emBAvhvGM1pTnbQ5x37ITlCuMk9ACSyZ6Rqrh9eSIflgEiWV1y+g9OPAAAAPgGex2pCfwAAJK1bZnD8vt+iQORmisihG2NA6ZI4U0o4WgVllG3NLj16C1/+d1mAh+Sq/71cqWsLWNlJWkWAAAAAiEGayUmoQWyZTAhX//3hAAAENlSl5aQsrQ5/4JGmwYN3Ptpej6ZKTM4IHf1oky1ADeFtM11sQZLRx2md5DjHlDtD4St2/8mdCN2mYf8smr56jhD5kYEUfCHxjvZ6fe4y2W93EgQTknNlBV5Y9NuuGlagHSV63LeCbfjvrKaQJKcRIJbPZquRX8AAAACbQZrtSeEKUmUwIT/8hAAAEFiIBHehuktll9N2vPO/QgCrUA2phJv6lgfSrRR/L0gOVNK0ATS/gqgAreDL851TKaAA/WWiNIiQBbCU/EKeiGUhEfECc85k0SH6h+HdWlQDBj2QNvgpbJEemEP6L8ldd+jlCY2czC806BeTdi6G6PGoz9COxHjcDTJLzAojLQM8npSQCLF6i+eyAGEAAABuQZ8LRTRMK/8AABfpVJnIBUrOZ8TuMsEARgBLVZLsY3p4pQ0804T/qW0dGPYWo/R4OBtk3mzsUYc0fZii71nvWqzJbwe2E0vqxjRzVi2Z9y7LlZ9XKQyKMzG/+IIaIzFZoVq8zvm6qnWXjyEnJ8wAAABBAZ8qdEJ/AAAkkjHtg6xpjv6Xtv3cje/9C/dN9ieIYCRW8oBFZBSbOdtP9OBvt4vtmefNQuzmSHjyguTvNtYgQScAAABVAZ8sakJ/AAAlvwIOD1C8nZzA+1lWQYgBpQgQW61N5gQeEp9A9ibH3bq5Bok7bXMmKIs32L9rk7+jRMkmSKWfSyukjz7Qu5+lTACZ5YDQMr+nPhfZUQAACCltb292AAAAbG12aGQAAAAAAAAAAAAAAAAAAAPoAAAOUwABAAABAAAAAAAAAAAAAAAAAQAAAAAAAAAAAAAAAAAAAAEAAAAAAAAAAAAAAAAAAEAAAAAAAAAAAAAAAAAAAAAAAAAAAAAAAAAAAAAAAAACAAAHU3RyYWsAAABcdGtoZAAAAAMAAAAAAAAAAAAAAAEAAAAAAAAOUwAAAAAAAAAAAAAAAAAAAAAAAQAAAAAAAAAAAAAAAAAAAAEAAAAAAAAAAAAAAAAAAEAAAAACYAAAAZAAAAAAACRlZHRzAAAAHGVsc3QAAAAAAAAAAQAADlMAAAQAAAEAAAAABsttZGlhAAAAIG1kaGQAAAAAAAAAAAAAAAAAADwAAADcAFXEAAAAAAAtaGRscgAAAAAAAAAAdmlkZQAAAAAAAAAAAAAAAFZpZGVvSGFuZGxlcgAAAAZ2bWluZgAAABR2bWhkAAAAAQAAAAAAAAAAAAAAJGRpbmYAAAAcZHJlZgAAAAAAAAABAAAADHVybCAAAAABAAAGNnN0YmwAAACWc3RzZAAAAAAAAAABAAAAhmF2YzEAAAAAAAAAAQAAAAAAAAAAAAAAAAAAAAACYAGQAEgAAABIAAAAAAAAAAEAAAAAAAAAAAAAAAAAAAAAAAAAAAAAAAAAAAAAAAAAAAAY//8AAAAwYXZjQwFkAB7/4QAYZ2QAHqzZQJgzoQAAAwABAAADADwPFi2WAQAFaOvnLIsAAAAYc3R0cwAAAAAAAAABAAAAbgAAAgAAAAAUc3RzcwAAAAAAAAABAAAAAQAAA3BjdHRzAAAAAAAAAGwAAAABAAAEAAAAAAEAAAoAAAAAAQAABAAAAAABAAAAAAAAAAEAAAIAAAAAAQAACgAAAAABAAAEAAAAAAEAAAAAAAAAAQAAAgAAAAABAAAKAAAAAAEAAAQAAAAAAQAAAAAAAAABAAACAAAAAAEAAAoAAAAAAQAABAAAAAABAAAAAAAAAAEAAAIAAAAAAQAACgAAAAABAAAEAAAAAAEAAAAAAAAAAQAAAgAAAAABAAAKAAAAAAEAAAQAAAAAAQAAAAAAAAABAAACAAAAAAEAAAoAAAAAAQAABAAAAAABAAAAAAAAAAEAAAIAAAAAAQAACAAAAAACAAACAAAAAAEAAAoAAAAAAQAABAAAAAABAAAAAAAAAAEAAAIAAAAAAQAACgAAAAABAAAEAAAAAAEAAAAAAAAAAQAAAgAAAAABAAAKAAAAAAEAAAQAAAAAAQAAAAAAAAABAAACAAAAAAEAAAoAAAAAAQAABAAAAAABAAAAAAAAAAEAAAIAAAAAAQAACgAAAAABAAAEAAAAAAEAAAAAAAAAAQAAAgAAAAABAAAKAAAAAAEAAAQAAAAAAQAAAAAAAAABAAACAAAAAAEAAAoAAAAAAQAABAAAAAABAAAAAAAAAAEAAAIAAAAAAQAACgAAAAABAAAEAAAAAAEAAAAAAAAAAQAAAgAAAAABAAAKAAAAAAEAAAQAAAAAAQAAAAAAAAABAAACAAAAAAEAAAoAAAAAAQAABAAAAAABAAAAAAAAAAEAAAIAAAAAAQAABgAAAAABAAACAAAAAAEAAAgAAAAAAgAAAgAAAAABAAAKAAAAAAEAAAQAAAAAAQAAAAAAAAABAAACAAAAAAEAAAoAAAAAAQAABAAAAAABAAAAAAAAAAEAAAIAAAAAAQAACgAAAAABAAAEAAAAAAEAAAAAAAAAAQAAAgAAAAABAAAKAAAAAAEAAAQAAAAAAQAAAAAAAAABAAACAAAAAAEAAAoAAAAAAQAABAAAAAABAAAAAAAAAAEAAAIAAAAAAQAACgAAAAABAAAEAAAAAAEAAAAAAAAAAQAAAgAAAAABAAAKAAAAAAEAAAQAAAAAAQAAAAAAAAABAAACAAAAAAEAAAQAAAAAAQAACgAAAAABAAAEAAAAAAEAAAAAAAAAAQAAAgAAAAAcc3RzYwAAAAAAAAABAAAAAQAAAG4AAAABAAABzHN0c3oAAAAAAAAAAAAAAG4AAASwAAAAiwAAAC8AAAAmAAAAKgAAAI0AAAAvAAAAJAAAAC8AAAEfAAAAWQAAAD0AAABRAAAArgAAAI8AAABOAAAAYwAAAHkAAAApAAAAFwAAACQAAADZAAAAZgAAAD0AAABPAAAAugAAAIQAAABdAAAAJAAAAHkAAAA5AAAAIAAAAREAAABgAAAARQAAAEwAAADWAAAAZQAAAEgAAABKAAABOAAAAEIAAAAkAAAAIwAAAHgAAAArAAAAHAAAACQAAAB0AAAASgAAACgAAAAwAAAArwAAADUAAAAxAAAANwAAANYAAABFAAAAPQAAAC4AAACiAAAAPgAAACoAAAAvAAAA8AAAAGQAAABLAAAARQAAAKgAAABSAAAAMAAAADUAAAChAAAAPQAAAVAAAABgAAAAIwAAAKsAAAA6AAAAIQAAADUAAABFAAAAPwAAACAAAAAdAAAATAAAAEEAAAAgAAAAKQAAAK8AAABNAAAAPgAAAD4AAACRAAAATAAAADcAAAAwAAAAkgAAAC0AAAAjAAAAMwAAAL8AAABUAAAAOQAAAEIAAACMAAAAnwAAAHIAAABFAAAAWQAAABRzdGNvAAAAAAAAAAEAAAAwAAAAYnVkdGEAAABabWV0YQAAAAAAAAAhaGRscgAAAAAAAAAAbWRpcmFwcGwAAAAAAAAAAAAAAAAtaWxzdAAAACWpdG9vAAAAHWRhdGEAAAABAAAAAExhdmY1Ny44My4xMDA=\" type=\"video/mp4\">\n",
       "  Your browser does not support the video tag.\n",
       "  </video>"
      ],
      "text/plain": [
       "<IPython.core.display.HTML object>"
      ]
     },
     "execution_count": 36,
     "metadata": {},
     "output_type": "execute_result"
    }
   ],
   "source": [
    "create_policy_eval_video(random_policy, \"random-agent\")"
   ]
  }
 ],
 "metadata": {
  "colab": {
   "collapsed_sections": [],
   "name": "DQN Tutorial.ipynb",
   "private_outputs": true,
   "provenance": [],
   "toc_visible": true
  },
  "kernelspec": {
   "display_name": "Python 3",
   "language": "python",
   "name": "python3"
  },
  "language_info": {
   "codemirror_mode": {
    "name": "ipython",
    "version": 3
   },
   "file_extension": ".py",
   "mimetype": "text/x-python",
   "name": "python",
   "nbconvert_exporter": "python",
   "pygments_lexer": "ipython3",
   "version": "3.7.5"
  },
  "pycharm": {
   "stem_cell": {
    "cell_type": "raw",
    "metadata": {
     "collapsed": false
    },
    "source": []
   }
  }
 },
 "nbformat": 4,
 "nbformat_minor": 0
}
